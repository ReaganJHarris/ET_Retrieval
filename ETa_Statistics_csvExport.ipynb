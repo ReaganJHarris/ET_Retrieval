{
  "nbformat": 4,
  "nbformat_minor": 0,
  "metadata": {
    "colab": {
      "name": "Copy of ETa_Statistics_csvExport.ipynb",
      "provenance": [],
      "collapsed_sections": [
        "bqi9d0V5F-ez",
        "97hbBG3HGFLo",
        "hdS07g9rTT6A",
        "1mHhqFDGITt5",
        "8yQy3pmGHWBp",
        "rod4DgvSlQ44"
      ],
      "include_colab_link": true
    },
    "kernelspec": {
      "name": "python3",
      "display_name": "Python 3"
    },
    "language_info": {
      "name": "python"
    }
  },
  "cells": [
    {
      "cell_type": "markdown",
      "metadata": {
        "id": "view-in-github",
        "colab_type": "text"
      },
      "source": [
        "<a href=\"https://colab.research.google.com/github/ReaganJHarris/ET_Retrieval/blob/main/ETa_Statistics_csvExport.ipynb\" target=\"_parent\"><img src=\"https://colab.research.google.com/assets/colab-badge.svg\" alt=\"Open In Colab\"/></a>"
      ]
    },
    {
      "cell_type": "markdown",
      "metadata": {
        "id": "nosWINKKw79c"
      },
      "source": [
        "#### Search **check_replace_this_var** in the notebook and correct the values  to create folder/imageCollection structures that represent your year and landsat. \n",
        "\n",
        "*   ARDretrieval_iDate_Col\n",
        "*   cur_ImgCol\n",
        "*   ETretrieval_Image_path\n",
        "*   asset_folder"
      ]
    },
    {
      "cell_type": "code",
      "metadata": {
        "id": "qldvCrIkPYG0"
      },
      "source": [
        "import os\n",
        "import sys\n",
        "import datetime\n",
        "from time import strftime, strptime, gmtime\n",
        "import math\n",
        "import pprint\n",
        "import copy\n",
        "import numpy as np"
      ],
      "execution_count": null,
      "outputs": []
    },
    {
      "cell_type": "code",
      "metadata": {
        "id": "lNyHNEcNPX99",
        "colab": {
          "base_uri": "https://localhost:8080/"
        },
        "outputId": "ef1ce5fd-132d-4a79-f214-747307c7f936"
      },
      "source": [
        "!pip install 'pyOpenSSL>=0.11'\n",
        "!pip install earthengine-api"
      ],
      "execution_count": null,
      "outputs": [
        {
          "output_type": "stream",
          "name": "stdout",
          "text": [
            "Collecting pyOpenSSL>=0.11\n",
            "  Downloading pyOpenSSL-21.0.0-py2.py3-none-any.whl (55 kB)\n",
            "\u001b[K     |████████████████████████████████| 55 kB 2.4 MB/s \n",
            "\u001b[?25hCollecting cryptography>=3.3\n",
            "  Downloading cryptography-36.0.0-cp36-abi3-manylinux_2_24_x86_64.whl (3.6 MB)\n",
            "\u001b[K     |████████████████████████████████| 3.6 MB 48.2 MB/s \n",
            "\u001b[?25hRequirement already satisfied: six>=1.5.2 in /usr/local/lib/python3.7/dist-packages (from pyOpenSSL>=0.11) (1.15.0)\n",
            "Requirement already satisfied: cffi>=1.12 in /usr/local/lib/python3.7/dist-packages (from cryptography>=3.3->pyOpenSSL>=0.11) (1.15.0)\n",
            "Requirement already satisfied: pycparser in /usr/local/lib/python3.7/dist-packages (from cffi>=1.12->cryptography>=3.3->pyOpenSSL>=0.11) (2.21)\n",
            "Installing collected packages: cryptography, pyOpenSSL\n",
            "Successfully installed cryptography-36.0.0 pyOpenSSL-21.0.0\n",
            "Requirement already satisfied: earthengine-api in /usr/local/lib/python3.7/dist-packages (0.1.290)\n",
            "Requirement already satisfied: google-cloud-storage in /usr/local/lib/python3.7/dist-packages (from earthengine-api) (1.18.1)\n",
            "Requirement already satisfied: httplib2<1dev,>=0.9.2 in /usr/local/lib/python3.7/dist-packages (from earthengine-api) (0.17.4)\n",
            "Requirement already satisfied: httplib2shim in /usr/local/lib/python3.7/dist-packages (from earthengine-api) (0.0.3)\n",
            "Requirement already satisfied: six in /usr/local/lib/python3.7/dist-packages (from earthengine-api) (1.15.0)\n",
            "Requirement already satisfied: future in /usr/local/lib/python3.7/dist-packages (from earthengine-api) (0.16.0)\n",
            "Requirement already satisfied: google-auth>=1.4.1 in /usr/local/lib/python3.7/dist-packages (from earthengine-api) (1.35.0)\n",
            "Requirement already satisfied: google-api-python-client<2,>=1.12.1 in /usr/local/lib/python3.7/dist-packages (from earthengine-api) (1.12.8)\n",
            "Requirement already satisfied: google-auth-httplib2>=0.0.3 in /usr/local/lib/python3.7/dist-packages (from earthengine-api) (0.0.4)\n",
            "Requirement already satisfied: google-api-core<2dev,>=1.21.0 in /usr/local/lib/python3.7/dist-packages (from google-api-python-client<2,>=1.12.1->earthengine-api) (1.26.3)\n",
            "Requirement already satisfied: uritemplate<4dev,>=3.0.0 in /usr/local/lib/python3.7/dist-packages (from google-api-python-client<2,>=1.12.1->earthengine-api) (3.0.1)\n",
            "Requirement already satisfied: googleapis-common-protos<2.0dev,>=1.6.0 in /usr/local/lib/python3.7/dist-packages (from google-api-core<2dev,>=1.21.0->google-api-python-client<2,>=1.12.1->earthengine-api) (1.53.0)\n",
            "Requirement already satisfied: packaging>=14.3 in /usr/local/lib/python3.7/dist-packages (from google-api-core<2dev,>=1.21.0->google-api-python-client<2,>=1.12.1->earthengine-api) (21.3)\n",
            "Requirement already satisfied: setuptools>=40.3.0 in /usr/local/lib/python3.7/dist-packages (from google-api-core<2dev,>=1.21.0->google-api-python-client<2,>=1.12.1->earthengine-api) (57.4.0)\n",
            "Requirement already satisfied: protobuf>=3.12.0 in /usr/local/lib/python3.7/dist-packages (from google-api-core<2dev,>=1.21.0->google-api-python-client<2,>=1.12.1->earthengine-api) (3.17.3)\n",
            "Requirement already satisfied: pytz in /usr/local/lib/python3.7/dist-packages (from google-api-core<2dev,>=1.21.0->google-api-python-client<2,>=1.12.1->earthengine-api) (2018.9)\n",
            "Requirement already satisfied: requests<3.0.0dev,>=2.18.0 in /usr/local/lib/python3.7/dist-packages (from google-api-core<2dev,>=1.21.0->google-api-python-client<2,>=1.12.1->earthengine-api) (2.23.0)\n",
            "Requirement already satisfied: pyasn1-modules>=0.2.1 in /usr/local/lib/python3.7/dist-packages (from google-auth>=1.4.1->earthengine-api) (0.2.8)\n",
            "Requirement already satisfied: rsa<5,>=3.1.4 in /usr/local/lib/python3.7/dist-packages (from google-auth>=1.4.1->earthengine-api) (4.7.2)\n",
            "Requirement already satisfied: cachetools<5.0,>=2.0.0 in /usr/local/lib/python3.7/dist-packages (from google-auth>=1.4.1->earthengine-api) (4.2.4)\n",
            "Requirement already satisfied: pyparsing!=3.0.5,>=2.0.2 in /usr/local/lib/python3.7/dist-packages (from packaging>=14.3->google-api-core<2dev,>=1.21.0->google-api-python-client<2,>=1.12.1->earthengine-api) (3.0.6)\n",
            "Requirement already satisfied: pyasn1<0.5.0,>=0.4.6 in /usr/local/lib/python3.7/dist-packages (from pyasn1-modules>=0.2.1->google-auth>=1.4.1->earthengine-api) (0.4.8)\n",
            "Requirement already satisfied: idna<3,>=2.5 in /usr/local/lib/python3.7/dist-packages (from requests<3.0.0dev,>=2.18.0->google-api-core<2dev,>=1.21.0->google-api-python-client<2,>=1.12.1->earthengine-api) (2.10)\n",
            "Requirement already satisfied: chardet<4,>=3.0.2 in /usr/local/lib/python3.7/dist-packages (from requests<3.0.0dev,>=2.18.0->google-api-core<2dev,>=1.21.0->google-api-python-client<2,>=1.12.1->earthengine-api) (3.0.4)\n",
            "Requirement already satisfied: urllib3!=1.25.0,!=1.25.1,<1.26,>=1.21.1 in /usr/local/lib/python3.7/dist-packages (from requests<3.0.0dev,>=2.18.0->google-api-core<2dev,>=1.21.0->google-api-python-client<2,>=1.12.1->earthengine-api) (1.24.3)\n",
            "Requirement already satisfied: certifi>=2017.4.17 in /usr/local/lib/python3.7/dist-packages (from requests<3.0.0dev,>=2.18.0->google-api-core<2dev,>=1.21.0->google-api-python-client<2,>=1.12.1->earthengine-api) (2021.10.8)\n",
            "Requirement already satisfied: google-resumable-media<0.5.0dev,>=0.3.1 in /usr/local/lib/python3.7/dist-packages (from google-cloud-storage->earthengine-api) (0.4.1)\n",
            "Requirement already satisfied: google-cloud-core<2.0dev,>=1.0.0 in /usr/local/lib/python3.7/dist-packages (from google-cloud-storage->earthengine-api) (1.0.3)\n"
          ]
        }
      ]
    },
    {
      "cell_type": "code",
      "metadata": {
        "id": "3G-eUFw_PXpe",
        "colab": {
          "base_uri": "https://localhost:8080/"
        },
        "outputId": "4d614ba2-0b6f-4818-9b86-7300f3da4554"
      },
      "source": [
        "!earthengine authenticate\n",
        "\n",
        "import ee\n",
        "ee.Initialize()\n",
        "\n",
        "image = ee.Image('srtm90_v4')\n",
        "print(image.getInfo())"
      ],
      "execution_count": null,
      "outputs": [
        {
          "output_type": "stream",
          "name": "stdout",
          "text": [
            "To authorize access needed by Earth Engine, open the following URL in a web browser and follow the instructions. If the web browser does not start automatically, please manually browse the URL below.\n",
            "\n",
            "    https://accounts.google.com/o/oauth2/auth?client_id=517222506229-vsmmajv00ul0bs7p89v5m89qs8eb9359.apps.googleusercontent.com&scope=https%3A%2F%2Fwww.googleapis.com%2Fauth%2Fearthengine+https%3A%2F%2Fwww.googleapis.com%2Fauth%2Fdevstorage.full_control&redirect_uri=urn%3Aietf%3Awg%3Aoauth%3A2.0%3Aoob&response_type=code&code_challenge=fLxN0FwouRNoWIfO4Taw63uMakr7YbtYDh7An9Hpzco&code_challenge_method=S256\n",
            "\n",
            "The authorization workflow will generate a code, which you should paste in the box below. \n",
            "Enter verification code: 4/1AX4XfWhJD4UgRiHOu6umoQ2IOpMTkpisJ77LfU7c55hpr-dSN-e8tS2dWb4\n",
            "\n",
            "Successfully saved authorization token.\n",
            "{'type': 'Image', 'bands': [{'id': 'elevation', 'data_type': {'type': 'PixelType', 'precision': 'int', 'min': -32768, 'max': 32767}, 'dimensions': [432000, 144000], 'crs': 'EPSG:4326', 'crs_transform': [0.000833333333333, 0, -180, 0, -0.000833333333333, 60]}], 'version': 1494271934303000.0, 'id': 'srtm90_v4', 'properties': {'system:time_start': 950227200000, 'system:time_end': 951177600000, 'system:asset_size': 18827626666}}\n"
          ]
        }
      ]
    },
    {
      "cell_type": "code",
      "metadata": {
        "id": "FMsa89oEPfHl",
        "colab": {
          "base_uri": "https://localhost:8080/"
        },
        "outputId": "806d566e-aa62-47a5-d9d0-83fcb61c5e5a"
      },
      "source": [
        "from google.colab import drive\n",
        "drive.mount('/gdrive')"
      ],
      "execution_count": null,
      "outputs": [
        {
          "output_type": "stream",
          "name": "stdout",
          "text": [
            "Mounted at /gdrive\n"
          ]
        }
      ]
    },
    {
      "cell_type": "code",
      "metadata": {
        "id": "yM5o4h5PPhO5"
      },
      "source": [
        "from google.colab import auth\n",
        "auth.authenticate_user()"
      ],
      "execution_count": null,
      "outputs": []
    },
    {
      "cell_type": "markdown",
      "metadata": {
        "id": "apZ-ilUzFzrX"
      },
      "source": [
        "# Image/Feature Collections"
      ]
    },
    {
      "cell_type": "code",
      "metadata": {
        "id": "onws2u1lT2zA"
      },
      "source": [
        "Counties = ee.FeatureCollection(\"TIGER/2018/Counties\")\n",
        "\n",
        "ARD_ET_8 = ee.ImageCollection(\"projects/ColoradoView/Landsat/ARD_ET/8\")\n",
        "ARD_ET_7 = ee.ImageCollection(\"projects/ColoradoView/Landsat/ARD_ET/7\")\n",
        "ARD_ET_5 = ee.ImageCollection(\"projects/ColoradoView/Landsat/ARD_ET/5\")"
      ],
      "execution_count": null,
      "outputs": []
    },
    {
      "cell_type": "markdown",
      "metadata": {
        "id": "WfG7M7qgF6QZ"
      },
      "source": [
        "# Constants"
      ]
    },
    {
      "cell_type": "markdown",
      "metadata": {
        "id": "bqi9d0V5F-ez"
      },
      "source": [
        "## Masks"
      ]
    },
    {
      "cell_type": "code",
      "metadata": {
        "id": "dGwUpK666YWn"
      },
      "source": [
        "#@title ARD mask\n",
        "# Validation  \n",
        "#TODO: check the function, so it applies to L8, L7, and L5\n",
        "def maskLandsatARD_ET(image): \n",
        "  fillBitMask = 1\n",
        "  clearBitMask = 1 << 1\n",
        "  cloudBitMask = 1 << 5\n",
        "  # var cloudConfBit6Mask = 1 << 6;\n",
        "  # var cloudConfBit7Mask = 1 << 7;\n",
        "  # var cirrusConfBit8Mask = 1 << 8;\n",
        "  # var cirrusConfBit9Mask = 1 << 9;\n",
        "  \n",
        "  ETa_name = 'b1' #Et ... TODO\n",
        "  ETf_name = 'b2'\n",
        "  ETun_name = 'b3'\n",
        "  pixelqa_name = 'b4'\n",
        "  \n",
        "  ETqa_threshold = 1.0 #1-2 mm\n",
        "  \n",
        "  #  get the pixel QA band\n",
        "  #  pixelqa_name: 'b2'\n",
        "  pixelqa = image.select(pixelqa_name) #\n",
        "  \n",
        "  #  get the STQA band\n",
        "  # lstqa = image.select(lstqa_name)\n",
        "  # stqa_scale = ee.Number(image.get(lstqa_scale_name))\n",
        "  \n",
        "  mask = pixelqa.bitwiseAnd(fillBitMask).eq(0)  \\\n",
        "    .And(pixelqa.bitwiseAnd(clearBitMask).neq(0)) \\\n",
        "    .And(pixelqa.bitwiseAnd(cloudBitMask).eq(0))\n",
        "        #.and(pixelqa.bitwiseAnd(cloudConfBit7Mask).eq(0))\n",
        "        #.and(pixelqa.bitwiseAnd(cirrusConfBit9Mask).eq(0))\n",
        "        # .and(lstqa.multiply(stqa_scale).lt(lstqa_threshold))\n",
        "        \n",
        "        \n",
        "  #  Return the masked image (excluding the PIXELQA and STQA layers)\n",
        "  return image.updateMask(mask).select(ETa_name)\n",
        "      #  .updateMask(mask_1);// [lst_name, pixelqa_name, lstqa_name]"
      ],
      "execution_count": null,
      "outputs": []
    },
    {
      "cell_type": "markdown",
      "metadata": {
        "id": "97hbBG3HGFLo"
      },
      "source": [
        "## Functions"
      ]
    },
    {
      "cell_type": "code",
      "metadata": {
        "id": "qbY3v87rp40L"
      },
      "source": [
        "def check_asset_existence(asset_id_str: str) -> bool:\n",
        "  '''determine whether the given asset_id_str is a valid ee asset.'''\n",
        "  try:\n",
        "    ret_info = ee.data.getAsset(asset_id_str)\n",
        "    return True\n",
        "  except ee.ee_exception.EEException as err:\n",
        "    return False"
      ],
      "execution_count": null,
      "outputs": []
    },
    {
      "cell_type": "code",
      "metadata": {
        "id": "OtRjzveiqCHg"
      },
      "source": [
        "def generate_ET_retrieval_asset_id(\n",
        "  root_path: str, county_name: str, date: str) -> str:\n",
        "  '''generate the asset id (string) from the given path, county, and date '''\n",
        "  return os.path.join(root_path, county_name, date)\n",
        "\n",
        "# Need to enter in date str when calling this function"
      ],
      "execution_count": null,
      "outputs": []
    },
    {
      "cell_type": "markdown",
      "metadata": {
        "id": "hdS07g9rTT6A"
      },
      "source": [
        "### Statistics functions"
      ]
    },
    {
      "cell_type": "code",
      "metadata": {
        "id": "bzEe5K1UDP1C"
      },
      "source": [
        "\n",
        "# function statistics_get_count(in_Image, Bnds, scale=30) {\n",
        "def statistics_get_count(in_Image, Bnds, scale):\n",
        "  in_Image = ee.Image(in_Image)\n",
        "  area = in_Image.reduceRegion(\n",
        "    reducer=ee.Reducer.count(),\n",
        "    geometry=Bnds.first().geometry(),\n",
        "    scale=scale, #30, #scale,\n",
        "    maxPixels=1e13\n",
        "  ).values().get(0)\n",
        "  return area\n",
        "\n",
        "\n",
        "def statistics_get_mean(in_Image, Bnds, scale):\n",
        "  in_Image = ee.Image(in_Image)\n",
        "  mean = in_Image.reduceRegion(\n",
        "    reducer=ee.Reducer.mean(),\n",
        "    geometry=Bnds.first().geometry(),\n",
        "    scale=scale,\n",
        "    maxPixels=1e13\n",
        "  ).values().get(0)\n",
        "  return mean\n",
        "\n",
        "\n",
        "def statistics_get_median(in_Image, Bnds, scale):\n",
        "  in_Image = ee.Image(in_Image)\n",
        "  median = in_Image.reduceRegion(\n",
        "    reducer=ee.Reducer.median(),\n",
        "    geometry=Bnds.first().geometry(),\n",
        "    scale=scale,\n",
        "    maxPixels=1e13\n",
        "  ).values().get(0)\n",
        "  return median\n",
        "\n",
        "\n",
        "def statistics_get_Std_Dev(in_Image, Bnds, scale):\n",
        "  in_Image = ee.Image(in_Image)\n",
        "  Std_Dev = in_Image.reduceRegion(\n",
        "    reducer=ee.Reducer.stdDev(),\n",
        "    geometry=Bnds.first().geometry(),\n",
        "    scale=scale,\n",
        "    maxPixels=1e13\n",
        "  ).values().get(0)\n",
        "  return Std_Dev\n",
        "\n",
        "\n",
        "def statistics_get_min(in_Image, Bnds, scale):\n",
        "  in_Image = ee.Image(in_Image)\n",
        "  min = in_Image.reduceRegion(\n",
        "    reducer=ee.Reducer.min(),\n",
        "    geometry=Bnds.first().geometry(),\n",
        "    scale=scale,\n",
        "    maxPixels=1e13\n",
        "  ).values().get(0)\n",
        "  return min\n",
        "\n",
        "\n",
        "def statistics_get_max(in_Image, Bnds, scale):\n",
        "  in_Image = ee.Image(in_Image)\n",
        "  max = in_Image.reduceRegion(\n",
        "    reducer=ee.Reducer.max(),\n",
        "    geometry=Bnds.first().geometry(),\n",
        "    scale=scale,\n",
        "    maxPixels=1e13\n",
        "  ).values().get(0)\n",
        "  return max\n",
        "\n",
        "def statistics_get_R_square(in_Image_1, in_Image_2, Bnds, scale):\n",
        "  Img1 = ee.Image(in_Image_1)\n",
        "  Img2 = ee.Image(in_Image_2)\n",
        "  ImgStk = Img1.select(0).rename('b1').addBands(Img2.select(0).rename('b2'))\n",
        "\n",
        "  pearsonsCorrelation = ImgStk.reduceRegion(\n",
        "    reducer=ee.Reducer.pearsonsCorrelation(),\n",
        "    geometry=Bnds.first().geometry(),\n",
        "    scale=scale,\n",
        "    maxPixels=1e13\n",
        "    )\n",
        "  Correlation = pearsonsCorrelation.get('correlation')\n",
        "  R = ee.Number(Correlation)\n",
        "  R_squared = R.pow(2) #R squared\n",
        "  return R_squared\n",
        "\n",
        "\n",
        "#  RMSE\n",
        "def statistics_get_RMSE(in_Image_1, in_Image_2, Bnds, scale):\n",
        "  Img_diff = in_Image_1.subtract(in_Image_2).rename('Img_diff')\n",
        "  \n",
        "  diff_squared = Img_diff.expression('Img_diff**2',{\n",
        "  'Img_diff': Img_diff\n",
        "  })\n",
        "\n",
        "  RMSE = ee.Number(diff_squared.reduceRegion(\n",
        "    reducer=ee.Reducer.mean(),\n",
        "    geometry=Bnds.first().geometry(),\n",
        "    scale=scale,\n",
        "    maxPixels=1e13\n",
        "  ).values().get(0)).sqrt()\n",
        "  return RMSE\n"
      ],
      "execution_count": null,
      "outputs": []
    },
    {
      "cell_type": "code",
      "metadata": {
        "id": "qG_7U6PjEJ78"
      },
      "source": [
        "#@title Create an empty list to hold dictionaries for each date\n",
        "\n",
        "\n",
        "statistics_key_list = ee.List([\n",
        "  'Date_string',\n",
        "  'area_ARD','area_retrieved_ET',\n",
        "  'mean_ARD','mean_retrieved_ET',\n",
        "  'median_ARD','median_retrieved_ET',\n",
        "  'Std_Dev_ARD','Std_Dev_retrieved_ET',\n",
        "  'min_ARD','min_retrieved_ET',\n",
        "  'max_ARD','max_retrieved_ET',\n",
        "  'R_square',\n",
        "  'RMSE'])\n",
        "\n",
        "def metric_dictionary_not_null(date, ETretrieval_iDate, ARDretrieval_iDate_Col, TgtCounty_Bnds, scale):\n",
        "\n",
        "  # print('date:', date)\n",
        "  ETretrieval_iDate = ee.Image(ETretrieval_iDate)\n",
        "  ARDretrieval_iDate = ee.Image(ARDretrieval_iDate_Col)\n",
        "  # var LSTretrieval_iDate =  denverLST_retrieval.filterDate(ee.Date(date)).first();\n",
        "  # var ARDretrieval_iDate = ARD_LST.map(maskARDL8lst).filterDate(ee.Date(date))\n",
        "    # .mosaic()//composites images in collection using mask\n",
        "    # .clipToCollection(TgtCounty_Bndry)//clips to this set boundary\n",
        "    # .multiply(0.1);//scaling factor for ARD_LST\n",
        "\n",
        "  # Masked images with updated variable names\n",
        "  ARD_Img_mask = ARDretrieval_iDate.mask()\n",
        "  ETretrieval_Mask = ETretrieval_iDate.mask().clip(TgtCounty_Bnds)\n",
        "  \n",
        "  # print(\"ETretrieval_Mask\", ETretrieval_Mask)\n",
        "\n",
        "  # Combined mask - retrieved LST and ARD with new variables defined in function\n",
        "  combined_R_A_mask = ETretrieval_Mask.And(ARD_Img_mask)\n",
        "  ET_for_validation = ETretrieval_iDate.updateMask(combined_R_A_mask) #updates mask for LST_retrieval\n",
        "  ARD_Img_for_validation = ARDretrieval_iDate.updateMask(combined_R_A_mask) #updates mask for ARD8_Img\n",
        "    \n",
        "  # print('Mask_updates:', ARDretrieval_iDate, ETretrieval_Mask)\n",
        "  \n",
        " \n",
        "  # Statistics Calculations begin\n",
        "  area_ARD = statistics_get_count(ARD_Img_for_validation, TgtCounty_Bnds, scale)\n",
        "  area_retrieved_ET = statistics_get_count(ET_for_validation, TgtCounty_Bnds, scale) # TgtCounty_Bndry, scale=scale);\n",
        "  \n",
        "  # print('area_ARD', area_ARD)\n",
        "  # print('area_retrieved_ET', area_retrieved_ET)\n",
        "  \n",
        "  mean_ARD = statistics_get_mean(ARD_Img_for_validation, TgtCounty_Bnds, scale)\n",
        "  mean_retrieved_ET = statistics_get_mean(ET_for_validation, TgtCounty_Bnds, scale)\n",
        "  # print('mean_ARD', mean_ARD);\n",
        "  # print('mean_retrieved_LST', mean_retrieved_LST);\n",
        "  \n",
        "  median_ARD = statistics_get_median(ARD_Img_for_validation, TgtCounty_Bnds, scale)\n",
        "  median_retrieved_ET = statistics_get_median(ET_for_validation, TgtCounty_Bnds, scale)\n",
        "  # print('median_ARD', median_ARD);\n",
        "  # print('median_retrieved_LST', median_retrieved_LST);\n",
        "  \n",
        "  Std_Dev_ARD = statistics_get_Std_Dev(ARD_Img_for_validation, TgtCounty_Bnds, scale)\n",
        "  Std_Dev_retrieved_ET = statistics_get_Std_Dev(ET_for_validation, TgtCounty_Bnds, scale)\n",
        "  # print('Std_Dev_ARD',Std_Dev_ARD);\n",
        "  # print('Std_Dev_retrieved_LST', Std_Dev_retrieved_LST);\n",
        "  \n",
        "  min_ARD = statistics_get_min(ARD_Img_for_validation, TgtCounty_Bnds, scale)\n",
        "  min_retrieved_ET = statistics_get_min(ET_for_validation, TgtCounty_Bnds, scale)\n",
        "  # print('min_ARD',min_ARD);\n",
        "  # print('min_retrieved_LST', min_retrieved_LST);\n",
        "  \n",
        "  max_ARD = statistics_get_max(ARD_Img_for_validation, TgtCounty_Bnds, scale)\n",
        "  max_retrieved_ET = statistics_get_max(ET_for_validation, TgtCounty_Bnds, scale)\n",
        "  # print('max_ARD',max_ARD);\n",
        "  # print('max_retrieved_LST', max_retrieved_LST);\n",
        "  \n",
        "  R_square = ee.Algorithms.If(\n",
        "    ee.Number(area_retrieved_ET).eq(0), \n",
        "    # null,\n",
        "    None,\n",
        "    statistics_get_R_square(ET_for_validation, ARD_Img_for_validation, TgtCounty_Bnds, scale)) #R^2 between retrieved LST and ARD8\n",
        "  # print('R_square',R_square)\n",
        "  \n",
        "  RMSE = ee.Algorithms.If(\n",
        "    ee.Number(area_retrieved_ET).eq(0),\n",
        "    # null,\n",
        "    None,\n",
        "    statistics_get_RMSE(ET_for_validation, ARD_Img_for_validation, TgtCounty_Bnds, scale))\n",
        "  # print('RMSE', RMSE)\n",
        "\n",
        "  # Assign the values that will be returned to matching previous stringList values \n",
        "  # in that format\n",
        "  # statistics_value_list = ee.List([\n",
        "  #   date, \n",
        "  #   area_ARD8,area_retrieved_LST,\n",
        "  #   mean_ARD8,mean_retrieved_LST,\n",
        "  #   median_ARD8,median_retrieved_LST,\n",
        "  #   Std_Dev_ARD8,Std_Dev_retrieved_LST,\n",
        "  #   min_ARD8,min_retrieved_LST,\n",
        "  #   max_ARD8,max_retrieved_LST,\n",
        "  #   R_square,\n",
        "  #   RMSE])\n",
        "  \n",
        "  statistics_value_list = ee.List([\n",
        "    date, \n",
        "    area_ARD,area_retrieved_ET,\n",
        "    mean_ARD,mean_retrieved_ET,\n",
        "    median_ARD,median_retrieved_ET,\n",
        "    Std_Dev_ARD,Std_Dev_retrieved_ET,\n",
        "    min_ARD,min_retrieved_ET,\n",
        "    max_ARD,max_retrieved_ET,\n",
        "    R_square,\n",
        "    RMSE])\n",
        "  \n",
        "  # Create a dictionary from two previously defined lists\n",
        "  statistics_dict = ee.Dictionary.fromLists(statistics_key_list,statistics_value_list)\n",
        "  # print('Stats_dict', statistics_dict );\n",
        "  \n",
        "  # Map.addLayer(LSTretrieval_iDate, {}, \"LSTretrieval_iDate\");\n",
        "  \n",
        "  # Map.addLayer(ARD8retrieval_iDate, {}, \"ARD8retrieval_iDate\");\n",
        "  \n",
        "  # Map.addLayer(LST_for_validation, {}, \"LST_for_validation\");\n",
        "  \n",
        "  # Map.addLayer(ARD8_Img_for_validation, {}, \"ARD8_Img_for_validation\");\n",
        "  \n",
        "  return statistics_dict\n",
        "\n",
        "\n"
      ],
      "execution_count": null,
      "outputs": []
    },
    {
      "cell_type": "code",
      "metadata": {
        "id": "gPGdg-KDG2bR"
      },
      "source": [
        "#@title Function retrieving values for each statType\n",
        "def metric_dictionary(date, TgtCounty_Bnds, scale, ETretrieval_Image_path):\n",
        "  \n",
        "  # Create format of key that list will be returned in\n",
        "\n",
        "  # empty_val_list = ee.List([\n",
        "  #   date, \n",
        "  #   # null, null, null, null, null, null, null, null, null, null, null, null, null, null\n",
        "  #   None, None, None, None, None, None, None, None, None, None, None, None, None, None\n",
        "  #   ])\n",
        "\n",
        "  # empty_statistics_dict = ee.Dictionary.fromLists(statistics_key_list, empty_val_list)\n",
        "\n",
        "  # print('date:', date)\n",
        "  \n",
        "  # # LSTretrieval_IC_iDate = sanJuanLST_retrieval.filterDate(ee.Date(date))\n",
        "  # ETreteival_Image_path = os.path.join(ET_Retrieval_rootPath, countyName, date)\n",
        "  # if ETreteival_Image_path not exists:\n",
        "  #   # LSTretrieval_IC_iDate = ee.ImageCollection(ee.List([]))\n",
        "  #   flag_retrieval = ee.Number(0)\n",
        "    \n",
        "  # else:\n",
        "  #   flag_retrieval = ee.Number(1)\n",
        "  #   LSTretrieval_iDate = ee.Image(ETreteival_Image_path) #obtain image from line 399\n",
        "\n",
        "  # LSTretrieval_iDate = ee.Algorithms.If(\n",
        "  #   ee.Number(LSTretrieval_IC_iDate.size()).eq(0),\n",
        "  #   ee.Image(0).updateMask(0),\n",
        "  #   ee.Image(ETreteival_Image_path)\n",
        "  #   )\n",
        "\n",
        "  ETretrieval_iDate = ee.Image(ETretrieval_Image_path) #TODO...change back to ETretrieval_Image_path\n",
        "\n",
        "  \n",
        "  # var LSTretrieval_iDate =  denverLST_retrieval.filterDate(ee.Date(date)).first();\n",
        "  # LSTretrieval_iDate = LSTretrieval_IC_iDate.first()\n",
        "  # var ARDretrieval_iDate = ARD_LST.map(maskARDL8lst).filterDate(ee.Date(date))\n",
        "    # .mosaic()//composites images in collection using mask\n",
        "    # .clipToCollection(TgtCounty_Bndry)//clips to this set boundary\n",
        "    # .multiply(0.1);//scaling factor for ARD_LST\n",
        "  \n",
        "\n",
        "  # print(\"Lst_ret_date:\", LSTretrieval_iDate);\n",
        "  # print(\"ee.Number(LSTretrieval_IC_iDate.size()).gte(1)\", ee.Number(LSTretrieval_IC_iDate.size()).gte(1));\n",
        "  \n",
        "  # \n",
        "  # LSTretrieval_iDate = ee.Algorithms.If(\n",
        "  #   ee.Number(LSTretrieval_IC_iDate.size()).eq(0),\n",
        "  #   ee.Image(0).updateMask(0),\n",
        "  #   LSTretrieval_iDate\n",
        "  #   )\n",
        "  \n",
        "  # print(\"updated ET_ret_date:\", ETretrieval_iDate)\n",
        "\n",
        "  ## TODO :Test mask\n",
        "  #TODO....change back to argument (date)\n",
        "  #composites images in collection using mask \n",
        "  #clips to this set boundary\n",
        "  ARDretrieval_iDate_Col = ARD_ET_5.map(maskLandsatARD_ET).filterDate(ee.Date(date))  \\\n",
        "    .mosaic() \\\n",
        "    .clipToCollection(TgtCounty_Bnds)  \\\n",
        "    .multiply(0.001) #scaling factor for ARD_ET\n",
        "  \n",
        "    \n",
        "  return metric_dictionary_not_null(\n",
        "    date, ETretrieval_iDate, ARDretrieval_iDate_Col, TgtCounty_Bnds, scale)\n",
        "\n",
        "\n"
      ],
      "execution_count": null,
      "outputs": []
    },
    {
      "cell_type": "markdown",
      "metadata": {
        "id": "1mHhqFDGITt5"
      },
      "source": [
        "# Single Day\n"
      ]
    },
    {
      "cell_type": "code",
      "metadata": {
        "id": "ti1GUXEJPTmZ"
      },
      "source": [
        "#@title County Geometry\n",
        "# parameters\n",
        "TgtCounty_index = 0;\n",
        "countyGEOID_array = ['08031','08111','08047','08081','08039','08095'];\n",
        "countyName_array = ['Denver','San_Juan', 'Gilpin','Moffat','Elbert','Phillips'];\n",
        "\n",
        "\n",
        "TgtCounty_GEOID = countyGEOID_array[TgtCounty_index]\n",
        "TgtCounty_Name = countyName_array[TgtCounty_index]\n",
        "\n",
        "# get the State boundary of Colorado\n",
        "# State_Bnds_CO = State_Bnds.filter(ee.Filter.eq('GEOID', '08')) #CO:'08'; UT:'49'\n",
        "# print(State_Bnds_CO)\n",
        "\n",
        "# target county\n",
        "TgtCounty_Bnds = Counties.filter(ee.Filter.eq('GEOID', TgtCounty_GEOID))\n",
        "# print('TgtCounty_Bndry', TgtCounty_Bnds)\n",
        "\n",
        "# get the centroid of the county\n",
        "TgtCounty_Bnds_geom = TgtCounty_Bnds.first().geometry()\n",
        "TgtCounty_centroid = TgtCounty_Bnds_geom.centroid()\n",
        "# print('TgtCounty_centroid', TgtCounty_centroid)\n",
        "\n",
        "total_count_TgtCounty_500 = ee.Image(1).clipToCollection(TgtCounty_Bnds).rename('count').reduceRegion(\n",
        "      reducer=ee.Reducer.count(),\n",
        "      geometry=TgtCounty_Bnds.first().geometry(),\n",
        "      scale=500,\n",
        "      maxPixels=1e13 \n",
        "    ).get('count')\n"
      ],
      "execution_count": null,
      "outputs": []
    },
    {
      "cell_type": "code",
      "metadata": {
        "id": "VGXSg0aWGVu2"
      },
      "source": [
        "list_metrics = [] #ee.List([])\n",
        "scale=30 #scale variable get\n",
        "\n",
        "ET_Retrieval_rootPath = 'projects/ColoradoView/ET_Retrieval'"
      ],
      "execution_count": null,
      "outputs": []
    },
    {
      "cell_type": "code",
      "metadata": {
        "id": "iaKA4fJ9D6_x",
        "colab": {
          "base_uri": "https://localhost:8080/"
        },
        "outputId": "6a08749f-e727-4dcb-83ca-aec7c1ef580f"
      },
      "source": [
        "#@title Valid Dates\n",
        "# dates\n",
        "start_date_str = '2018-01-01' #'2014-01-01'\n",
        "end_date_str = '2018-12-31' # '2014-01-31'\n",
        "\n",
        "# dates  \n",
        "start_date = ee.Date(start_date_str)\n",
        "end_date = ee.Date(end_date_str)\n",
        "date_range = end_date.difference(start_date, 'day').getInfo()\n",
        "\n",
        "#  create list of dates from start through date range\n",
        "days = ee.List.sequence(0, date_range, 1.0)\n",
        "def generate_date_feature(d):\n",
        "# date_Fts = days.map(function(d) {\n",
        "  #  d: the index of the continuous sequence (i.e., days)\n",
        "  #  cur_date: ee.Date of the day pointed by d\n",
        "  cur_date = start_date.advance(d, 'day')\n",
        "  #  filter by the cur_date\n",
        "  cur_ImgCol = ARD_ET_8.filterDate(cur_date)\n",
        "  #  reduce resolution of the ImageCollection \n",
        "  # cur_ImgCol = cur_ImgCol.map(function(inImg){\n",
        "  def coarse_reproject(inImg):\n",
        "    # reproject in very low resolution (1920m) in order to reduce the calulation burdun.\n",
        "    return inImg.reproject('EPSG:3857', None, 500)\n",
        "  \n",
        "  cur_ImgCol = cur_ImgCol.map(coarse_reproject)\n",
        "  # mosaic ImageCollection and clip to the target boundary\n",
        "  cur_ImgMosaic = ee.Image(cur_ImgCol.mosaic()).clipToCollection(TgtCounty_Bnds)\n",
        "  # get the number of bands in the Image\n",
        "  num_bands = cur_ImgMosaic.bandNames().size()\n",
        "  # If number of bands > 0, return a normal date string, otherwise get an empty sting\n",
        "  cur_date_str = ee.Algorithms.If(num_bands.gt(0), cur_date.format('YYYY-MM-dd'), '')\n",
        "\n",
        "  cur_countMaskVal = ee.Algorithms.If(num_bands.gt(0), \n",
        "    cur_ImgMosaic.mask().clipToCollection(TgtCounty_Bnds).select(0).updateMask(cur_ImgMosaic.mask().select(0)).rename('count').reduceRegion( \n",
        "      reducer= ee.Reducer.count(), \n",
        "      geometry= TgtCounty_Bnds.first().geometry(), \n",
        "      scale= 500, \n",
        "      maxPixels= 1e13 \n",
        "    ).get('count'), \n",
        "    0)\n",
        "  \n",
        "  # create a empty Feature with two properties: date_str and date_str_len\n",
        "  ret_date_Ft = ee.Feature(None, { \n",
        "  'date_str': cur_date_str, \n",
        "  'date_str_len': ee.String(cur_date_str).length(), \n",
        "  'count': cur_countMaskVal})\n",
        "  return ret_date_Ft\n",
        "\n",
        "date_Fts = days.map(generate_date_feature)\n",
        "# print(\"date_Fts\", date_Fts);\n",
        " \n",
        " \n",
        "valid_dates_filtered = date_Fts \\\n",
        "  .filter(ee.Filter.gt('date_str_len', 0)) \\\n",
        "  .filter(ee.Filter.gt('count', ee.Number(total_count_TgtCounty_500).multiply(0.5)))\n",
        "# print(\"valid_dates_Fts\", valid_dates_filtered)\n",
        "\n",
        "def features_to_string(inFt):\n",
        "  inFt = ee.Feature(inFt)\n",
        "  return inFt.get('date_str')\n",
        "\n",
        "valid_dates_filtered_StringList = valid_dates_filtered.map(features_to_string)\n",
        "\n",
        "valid_dates = valid_dates_filtered_StringList.getInfo()\n",
        "# num_valid_dates = valid_dates.length\n",
        "num_valid_dates = len(valid_dates)\n",
        "print(valid_dates)\n"
      ],
      "execution_count": null,
      "outputs": [
        {
          "output_type": "stream",
          "text": [
            "['2018-01-02', '2018-01-11', '2018-03-16', '2018-04-01', '2018-04-08', '2018-04-17', '2018-05-26', '2018-06-04', '2018-06-11', '2018-06-20', '2018-06-27', '2018-07-06', '2018-07-13', '2018-08-07', '2018-08-14', '2018-08-23', '2018-08-30', '2018-09-08', '2018-09-15', '2018-10-26', '2018-11-02', '2018-11-18', '2018-12-04', '2018-12-13', '2018-12-20', '2018-12-29']\n"
          ],
          "name": "stdout"
        }
      ]
    },
    {
      "cell_type": "code",
      "metadata": {
        "id": "eg4C5ltrpiRQ"
      },
      "source": [
        "#@title Checks existence of valid dates and calls stat functions in to ee.List\n",
        "# Converts to string list of valid dates & creates\n",
        "# variable for numValiddates = validdates.length\n",
        "valid_dates = valid_dates_filtered_StringList.getInfo()\n",
        "# num_valid_dates = valid_dates.length\n",
        "num_valid_dates = len(valid_dates)\n",
        "print('valid_dates', valid_dates)\n",
        "\n",
        "# Create empty list that will hold dictionaries for each date\n",
        "list_metrics = [] #ee.List([])\n",
        "\n",
        "# forloop iterating over validates and appending every stat \n",
        "# value to empty dictionary(list) for EACH valid date\n",
        "# for (iValidDates = 0; iValidDates < num_valid_dates; iValidDates++):\n",
        "for iValidDates in list(range(num_valid_dates)):\n",
        "\n",
        "  date = valid_dates[iValidDates]\n",
        "  # print(date)\n",
        "  ## new ##\n",
        "\n",
        "  ## TODO: prepare county_name from county meta dict {geom_id: county_name, ...}\n",
        "  # county_name = {'08031':'Denver',\n",
        "                #  '08039':'Elbert',\n",
        "                #  '08047':'Gilpin',\n",
        "                #  '08081':'Moffat',\n",
        "                #  '08095':'Phillips',\n",
        "                #  '08111':'San_juan'\n",
        "                #  }\n",
        "\n",
        "  #TODO: adjust asset id to have landsat sensor in the parth\n",
        "  ETretrieval_Image_path =  \\\n",
        "    generate_ET_retrieval_asset_id(ET_Retrieval_rootPath, countyName_array[TgtCounty_index], date)\n",
        "\n",
        "  # break\n",
        "\n",
        "  flag_exist = check_asset_existence(str(ETretrieval_Image_path))\n",
        "  print(date, flag_exist)\n",
        "\n",
        "  if not flag_exist:\n",
        "    print(\n",
        "      f\"Warning: ET retrieval for {countyName_array[TgtCounty_index]} on {date} doesn't exist. \"\n",
        "      \"Skip the date.\"\n",
        "    )\n",
        "    continue\n",
        "\n",
        "  # if flag_exist == True:\n",
        "  #   valid_ETretrieval_Image_path = flag_exist\n",
        "    # print(valid_ETretrieval_Image_path)\n",
        "    #########\n",
        "  metric = metric_dictionary( \\\n",
        "    date, TgtCounty_Bnds, scale, ETretrieval_Image_path)   \n",
        "\n",
        "  list_metrics.append(metric)\n",
        "\n",
        "# raise ValueError()\n",
        "\n",
        "# print(\"Metric list: \", list_metrics)\n",
        "\n",
        "# Variable converting empty 'list_metrics' into an ee.List\n",
        "ee_list_metrics = ee.List(list_metrics)\n",
        "# print(\"ee_list_metrics: \", ee_list_metrics)\n",
        "\n",
        "\n"
      ],
      "execution_count": null,
      "outputs": []
    },
    {
      "cell_type": "code",
      "metadata": {
        "id": "vjfSQyRHp3gn"
      },
      "source": [
        "#@title Creates feature collection\n",
        "#  \n",
        "# New variable mapping an algorithm(function) over ee.List (metrics) \n",
        "# w/ input & output\n",
        "def create_feature(metricDictionary):\n",
        "  # Creates a feature from ee_list_metrics\n",
        "  ret_ft = ee.Feature(None, metricDictionary)\n",
        "  return ret_ft\n",
        "\n",
        "ee_listMetrics_fts = ee_list_metrics.map(create_feature)\n",
        "\n",
        "# ee_listMetrics_fts = ee_list_metrics.map(function(metricDictionary){\n",
        "  # Creates a feature from ee_list_metrics\n",
        "#   var ret_ft = ee.Feature(null, metricDictionary);\n",
        "#   return ret_ft;\n",
        "# });\n",
        "\n",
        "\n",
        "\n",
        "# print('metric_to_ftCollection', metric_to_ftCollection)\n",
        "\n",
        "# Converts list of dictionaries into a feature collection FOR EXPORT\n",
        "metric_to_ftCollection = ee.FeatureCollection(ee_listMetrics_fts)\n",
        "# print('metric_to_ftCollection', metric_to_ftCollection)\n",
        "\n"
      ],
      "execution_count": null,
      "outputs": []
    },
    {
      "cell_type": "code",
      "metadata": {
        "id": "9BUlJzyZsBDY"
      },
      "source": [
        "#@title Exports Metrics table as .csv\n",
        "desc1 = 'Metrics_table_' + countyName_array[TgtCounty_index] + '_' + start_date_str + '-' + end_date_str\n",
        "# TODO ...\n",
        "# include GEOID, County name\n",
        "task = ee.batch.Export.table.toDrive(\n",
        "  collection=metric_to_ftCollection, \n",
        "  description=desc1, \n",
        "  fileNamePrefix=desc1,\n",
        "  folder='ET_retrieval_Metrics',\n",
        "  fileFormat='CSV'\n",
        ")\n",
        "\n",
        "task.start()\n"
      ],
      "execution_count": null,
      "outputs": []
    },
    {
      "cell_type": "markdown",
      "metadata": {
        "id": "8yQy3pmGHWBp"
      },
      "source": [
        "# Multi Day\n"
      ]
    },
    {
      "cell_type": "code",
      "metadata": {
        "id": "GG9gxr_1HTfU"
      },
      "source": [
        "#@title Function for valid dates and county geometry\n",
        "# for key, values in GEOID.items():\n",
        "#def FIPS_valid_dates(county):\n",
        "def parameter_fn(county_dict, TgtCounty_GEOID, start_date_str):\n",
        "\n",
        "  #start_date_str = '2017-01-01'\n",
        "  #end_date_str = '2017-12-31'\n",
        "\n",
        "  Date_st = ee.Date(start_date_str)\n",
        "  #Date_ed = ee.Date(end_date_str)\n",
        "  Date_ed = Date_st.advance(1, 'year')\n",
        "\n",
        "  date_range = Date_ed.difference(Date_st, 'day').getInfo()\n",
        "\n",
        "  # get the State boundary of Colorado\n",
        "  # TgtCounty_index = 0\n",
        "\n",
        "  #TgtCounty_GEOID = countyGEOID_array #[TgtCounty_index] #08123：\tWeld \n",
        "  # look up county name in the dict using the key (GEOID)\n",
        "  if (TgtCounty_GEOID in county_dict):\n",
        "    #TgtCounty_Name = countyName_array #[TgtCounty_index]\n",
        "    TgtCounty_Name = county_dict[TgtCounty_GEOID]\n",
        "  else:\n",
        "    # GEOID not found\n",
        "    raise ValueError(f\"Error: given GEOID {TgtCounty_GEOID} not found.\")\n",
        "\n",
        "\n",
        "  TgtCounty_Bnds = Counties.filter(ee.Filter.eq('GEOID', TgtCounty_GEOID))\n",
        "  # print(TgtCounty_Bnds)\n",
        "  # print(TgtCounty_Bnds.first().geometry().getInfo())\n",
        "  TgtCounty_Bnds_geom = TgtCounty_Bnds.first().geometry()\n",
        "  TgtCounty_centroid = TgtCounty_Bnds_geom.centroid()\n",
        "  \n",
        "  geom_State_Bnds_CO_geometries = TgtCounty_Bnds.first().geometry().getInfo()\n",
        "  # print(geom_State_Bnds_CO_geometries)\n",
        "  # if isinstance(geom_State_Bnds_CO_geometries, list):\n",
        "  if geom_State_Bnds_CO_geometries['type'] == 'GeometryCollection':\n",
        "    for igeom in geom_State_Bnds_CO_geometries['geometries']:\n",
        "      if igeom['type'] == 'Polygon' or igeom['type'] == 'MultiPolygon':\n",
        "        geom_State_Bnds_CO = igeom['coordinates']\n",
        "        break\n",
        "  else:\n",
        "    geom_State_Bnds_CO = geom_State_Bnds_CO_geometries['coordinates']\n",
        "\n",
        "  # print(geom_State_Bnds_CO)\n",
        "  # geom_State_Bnds_CO = TgtCounty_Bnds.first().geometry().getInfo()['coordinates'] \n",
        "\n",
        "  geom_str = str(geom_State_Bnds_CO)\n",
        "                \n",
        "  total_count_TgtCounty_500 = ee.Image(1).clipToCollection(TgtCounty_Bnds).rename('count').reduceRegion( \\\n",
        "        reducer= ee.Reducer.count(), \\\n",
        "        geometry= TgtCounty_Bnds.first().geometry(), \\\n",
        "        scale= 500, \\\n",
        "        maxPixels= 1e13 \\\n",
        "      ).get('count')\n",
        "\n",
        "  ## valid dates function\n",
        "  date_range = Date_ed.difference(Date_st, 'day').getInfo();\n",
        "\n",
        "  # create list of dates from start through date range\n",
        "  days = ee.List.sequence(0, date_range, 1.0)\n",
        "  def generate_date_feature(d):\n",
        "  # date_Fts = days.map(function(d) {\n",
        "    #  d: the index of the continuous sequence (i.e., days)\n",
        "    #  cur_date: ee.Date of the day pointed by d\n",
        "    cur_date = Date_st.advance(d, 'day')\n",
        "    #  filter by the cur_date\n",
        "    cur_ImgCol = ARD_ET_5.filterDate(cur_date)\n",
        "    #  reduce resolution of the ImageCollection \n",
        "    # cur_ImgCol = cur_ImgCol.map(function(inImg){\n",
        "    def coarse_reproject(inImg):\n",
        "      # reproject in very low resolution (1920m) in order to reduce the calulation burdun.\n",
        "      return inImg.reproject('EPSG:3857', None, 500)\n",
        "    \n",
        "    cur_ImgCol = cur_ImgCol.map(coarse_reproject)\n",
        "    # mosaic ImageCollection and clip to the target boundary\n",
        "    cur_ImgMosaic = ee.Image(cur_ImgCol.mosaic()).clipToCollection(TgtCounty_Bnds)\n",
        "    # get the number of bands in the Image\n",
        "    num_bands = cur_ImgMosaic.bandNames().size()\n",
        "    # If number of bands > 0, return a normal date string, otherwise get an empty sting\n",
        "    cur_date_str = ee.Algorithms.If(num_bands.gt(0), cur_date.format('YYYY-MM-dd'), '')\n",
        "\n",
        "    cur_countMaskVal = ee.Algorithms.If(num_bands.gt(0), \n",
        "      cur_ImgMosaic.mask().clipToCollection(TgtCounty_Bnds).select(0).updateMask(cur_ImgMosaic.mask().select(0)).rename('count').reduceRegion( \n",
        "        reducer= ee.Reducer.count(), \n",
        "        geometry= TgtCounty_Bnds.first().geometry(), \n",
        "        scale= 500, \n",
        "        maxPixels= 1e13 \n",
        "      ).get('count'), \n",
        "      0)\n",
        "    \n",
        "    # create a empty Feature with two properties: date_str and date_str_len\n",
        "    ret_date_Ft = ee.Feature(None, { \n",
        "    'date_str': cur_date_str, \n",
        "    'date_str_len': ee.String(cur_date_str).length(), \n",
        "    'count': cur_countMaskVal})\n",
        "    return ret_date_Ft\n",
        "\n",
        "  date_Fts = days.map(generate_date_feature)\n",
        "  # print(\"date_Fts\", date_Fts)\n",
        "\n",
        "  # filter List of Features to exclude those invalid dates (i.e., date_str_len == 0)\n",
        "  valid_dates_filtered = date_Fts \\\n",
        "    .filter(ee.Filter.gt('date_str_len', 0)) \\\n",
        "    .filter(ee.Filter.gt('count', ee.Number(total_count_TgtCounty_500).multiply(0.5)))\n",
        "  # print(\"valid_dates_Fts\", valid_dates_filtered)\n",
        "\n",
        "  # convert the List of Features to List of Strings (i.e., list of date_str_len)\n",
        "  def features_to_string(inFt):\n",
        "    inFt = ee.Feature(inFt)\n",
        "    return inFt.get('date_str')\n",
        "\n",
        "  valid_dates_filtered_StringList = valid_dates_filtered.map(features_to_string)\n",
        "  # batch fetch List content to client\n",
        "  valid_dates = valid_dates_filtered_StringList.getInfo()\n",
        "  num_valid_dates = len(valid_dates)\n",
        "  # print(\"valid_dates\", num_valid_dates, valid_dates)\n",
        "\n",
        "  return valid_dates, TgtCounty_Bnds, TgtCounty_Name\n"
      ],
      "execution_count": null,
      "outputs": []
    },
    {
      "cell_type": "markdown",
      "metadata": {
        "id": "CyJeH8nvLPvk"
      },
      "source": [
        "# Function creates retreival path and exports csv's"
      ]
    },
    {
      "cell_type": "code",
      "metadata": {
        "id": "pSfD7malHTSH"
      },
      "source": [
        "\n",
        "def ET_retrieval_path_by_county(county_dict, ET_retrieval_years):\n",
        "  GEOID = copy.deepcopy(county_dict)\n",
        "\n",
        "  TgtCounty_GEOID = list(GEOID.keys())[0]\n",
        "  #start_date_str = str(in_year) + '-01-01' #'2013-01-01'\n",
        "  # print(TgtCounty_GEOID)\n",
        "\n",
        "\n",
        "  for current_year in ET_retrieval_years:\n",
        "    \n",
        "    start_date_str = str(current_year) + '-01-01' #'2013-01-01'\n",
        "\n",
        "    for TgtCounty_GEOID in GEOID.keys():\n",
        "      #valid_dates, TgtCounty_Bnds, TgtCounty_Name = parameter_fn(county_dict, TgtCounty_GEOID, start_date_str)\n",
        "      valid_dates, TgtCounty_Bnds, TgtCounty_Name = parameter_fn(GEOID, TgtCounty_GEOID, start_date_str)\n",
        "\n",
        "      # print(\"TgtCounty_Bnds\", TgtCounty_Bnds)\n",
        "      print(\"TgtCounty_Name:\", TgtCounty_Name)\n",
        "      # print(\"valid_dates\", valid_dates)\n",
        "\n",
        "      list_metrics = [] # empty list\n",
        "\n",
        "      for county_dates in valid_dates:\n",
        "        #TODO: adjust asset id to have landsat sensor in the parth\n",
        "        ### check_replace_this_var ###\n",
        "        asset_folder = 'Ls5'\n",
        "        # asset_folder = 'C_965_test'\n",
        "        ETretrieval_Image_path = 'projects/ColoradoView/ET_Seasonal_cPara/' + str(TgtCounty_Name) + '/' + asset_folder + '/' + str(county_dates)\n",
        "        # ETretrieval_Image_path = os.path.join('projects/ColoradoView/ET_Retrieval', str(TgtCounty_Name), asset_folder, str(county_dates))\n",
        "        print(ETretrieval_Image_path)\n",
        "        # ET_retrieval_county_fn(valid_dates, TgtCounty_Bnds, TgtCounty_Name)\n",
        "        flag_exist = check_asset_existence(str(ETretrieval_Image_path))\n",
        "        # print(date, flag_exist)\n",
        "\n",
        "        if not flag_exist:\n",
        "          print(\n",
        "            f\"Warning: ET retrieval for {TgtCounty_Name} on {county_dates} doesn't exist. \"\n",
        "            \"Skip the date.\"\n",
        "          )\n",
        "          continue\n",
        "    \n",
        "        scale=30\n",
        "        metric = metric_dictionary( \\\n",
        "          county_dates, TgtCounty_Bnds, scale, ETretrieval_Image_path)\n",
        "        \n",
        "        list_metrics.append(metric)\n",
        "\n",
        "      # Post processing after valid dates for current year\n",
        "\n",
        "      # print(\"Metric list: \", list_metrics)\n",
        "      # Variable converting empty 'list_metrics' into an ee.List\n",
        "      ee_list_metrics = ee.List(list_metrics)\n",
        "      # print(\"ee_list_metrics: \", ee_list_metrics)\n",
        "\n",
        "      def create_feature(metricDictionary):\n",
        "      # Creates a feature from ee_list_metrics\n",
        "        ret_ft = ee.Feature(None, metricDictionary)\n",
        "        return ret_ft\n",
        "\n",
        "      ee_listMetrics_fts = ee_list_metrics.map(create_feature)\n",
        "      # print(ee_listMetrics_fts)\n",
        "\n",
        "      metric_to_ftCollection = ee.FeatureCollection(ee_listMetrics_fts)\n",
        "\n",
        "      desc1 = 'Metrics_table_' + TgtCounty_Name + '_' + str(current_year) # + '-' + end_date_str\n",
        "      # TODO ...\n",
        "      # include GEOID, County name\n",
        "      task = ee.batch.Export.table.toDrive(\n",
        "        collection=metric_to_ftCollection, \n",
        "        description=desc1, \n",
        "        fileNamePrefix=desc1,\n",
        "        folder='ET_cCoef_trials',\n",
        "        fileFormat='CSV'\n",
        "      )\n",
        "\n",
        "      task.start()"
      ],
      "execution_count": null,
      "outputs": []
    },
    {
      "cell_type": "code",
      "metadata": {
        "id": "apozeXFMJHwG",
        "colab": {
          "base_uri": "https://localhost:8080/"
        },
        "outputId": "b37eaae7-14a2-4cda-f3c1-10336378c997"
      },
      "source": [
        "ET_retrieval_years = np.arange(2000, 2001, 1)\n",
        "print(ET_retrieval_years)\n",
        "\n",
        "county_dict = {# '08001': 'Adams',\n",
        "# '08003': 'Alamosa',\n",
        "# '08005': 'Arapahoe',\n",
        "# '08007': 'Archuleta',\n",
        "# '08009': 'Baca',\n",
        "# '08011': 'Bent',\n",
        "# '08013': 'Boulder',\n",
        "# '08015': 'Chaffee',\n",
        "# '08017': 'Cheyenne',\n",
        "# '08019': 'Clear_Creek',\n",
        "# '08021': 'Conejos',\n",
        "# '08023': 'Costilla',\n",
        "# '08025': 'Crowley',\n",
        "# '08027': 'Custer',\n",
        "# '08029': 'Delta',\n",
        "# '08031': 'Denver',\n",
        "# '08033': 'Dolores',\n",
        "# '08035': 'Douglas',\n",
        "# '08037': 'Eagle',\n",
        "# '08041': 'El_Paso',\n",
        "'08039': 'Elbert',\n",
        "# '08043': 'Fremont',\n",
        "# '08045': 'Garfield',\n",
        "# '08047': 'Gilpin',\n",
        "# '08049': 'Grand',\n",
        "# '08051': 'Gunnison',\n",
        "# '08053': 'Hinsdale',\n",
        "# '08055': 'Huerfano',\n",
        "# '08057': 'Jackson',\n",
        "# '08059': 'Jefferson',\n",
        "# '08061': 'Kiowa',\n",
        "# '08063': 'Kit_Carson',\n",
        "# '08067': 'La_Plata',\n",
        "# '08065': 'Lake',\n",
        "# '08069': 'Larimer',\n",
        "# '08071': 'Las_Animas',\n",
        "# '08073': 'Lincoln',\n",
        "# '08075': 'Logan',\n",
        "# '08077': 'Mesa',\n",
        "# '08079': 'Mineral',\n",
        "# '08081': 'Moffat',\n",
        "# '08083': 'Montezuma',\n",
        "# '08085': 'Montrose',\n",
        "# '08087': 'Morgan',\n",
        "# '08089': 'Otero',\n",
        "# '08091': 'Ouray',\n",
        "# '08093': 'Park',\n",
        "# '08095': 'Phillips',\n",
        "# '08097': 'Pitkin',\n",
        "# '08099': 'Prowers',\n",
        "# '08101': 'Pueblo',\n",
        "# '08103': 'Rio_Blanco',\n",
        "# '08105': 'Rio_Grande',\n",
        "# '08107': 'Routt',\n",
        "# '08109': 'Saguache',\n",
        "# '08111': 'San_Juan',\n",
        "# '08113': 'San_Miguel',\n",
        "# '08115': 'Sedgwick',\n",
        "# '08117': 'Summit',\n",
        "# '08119': 'Teller',\n",
        "# '08121': 'Washington',\n",
        "# '08123': 'Weld',\n",
        "# '08125': 'Yuma'\n",
        "}\n",
        "\n",
        "ET_retrieval_path_by_county(county_dict, ET_retrieval_years)"
      ],
      "execution_count": null,
      "outputs": [
        {
          "output_type": "stream",
          "name": "stdout",
          "text": [
            "[2000]\n",
            "TgtCounty_Name: Elbert\n",
            "projects/ColoradoView/ET_Seasonal_cPara/Elbert/Ls5/2000-01-19\n",
            "Warning: ET retrieval for Elbert on 2000-01-19 doesn't exist. Skip the date.\n",
            "projects/ColoradoView/ET_Seasonal_cPara/Elbert/Ls5/2000-05-10\n",
            "projects/ColoradoView/ET_Seasonal_cPara/Elbert/Ls5/2000-06-02\n",
            "projects/ColoradoView/ET_Seasonal_cPara/Elbert/Ls5/2000-06-18\n",
            "projects/ColoradoView/ET_Seasonal_cPara/Elbert/Ls5/2000-07-04\n",
            "projects/ColoradoView/ET_Seasonal_cPara/Elbert/Ls5/2000-07-13\n",
            "projects/ColoradoView/ET_Seasonal_cPara/Elbert/Ls5/2000-07-20\n",
            "projects/ColoradoView/ET_Seasonal_cPara/Elbert/Ls5/2000-08-05\n",
            "projects/ColoradoView/ET_Seasonal_cPara/Elbert/Ls5/2000-08-21\n",
            "projects/ColoradoView/ET_Seasonal_cPara/Elbert/Ls5/2000-09-15\n",
            "projects/ColoradoView/ET_Seasonal_cPara/Elbert/Ls5/2000-10-08\n",
            "projects/ColoradoView/ET_Seasonal_cPara/Elbert/Ls5/2000-10-17\n",
            "projects/ColoradoView/ET_Seasonal_cPara/Elbert/Ls5/2000-10-24\n",
            "projects/ColoradoView/ET_Seasonal_cPara/Elbert/Ls5/2000-11-25\n"
          ]
        }
      ]
    },
    {
      "cell_type": "markdown",
      "metadata": {
        "id": "rod4DgvSlQ44"
      },
      "source": [
        "# DEBUG"
      ]
    },
    {
      "cell_type": "markdown",
      "metadata": {
        "id": "TMpeOsGClSvA"
      },
      "source": [
        "## Asset exists"
      ]
    },
    {
      "cell_type": "code",
      "metadata": {
        "id": "F5Cb5KwElRiw"
      },
      "source": [
        ""
      ],
      "execution_count": null,
      "outputs": []
    },
    {
      "cell_type": "code",
      "metadata": {
        "id": "DACzuY6tlbmT"
      },
      "source": [
        "import os\n",
        "import sys\n",
        "import datetime\n",
        "from time import strftime, strptime, gmtime\n",
        "import math\n",
        "import pprint\n",
        "import copy"
      ],
      "execution_count": null,
      "outputs": []
    },
    {
      "cell_type": "code",
      "metadata": {
        "colab": {
          "base_uri": "https://localhost:8080/"
        },
        "id": "fUPIBLF2lbmn",
        "outputId": "398561a2-4baa-47ca-ea4f-68ec1bb4899c"
      },
      "source": [
        "!pip install 'pyOpenSSL>=0.11'\n",
        "!pip install earthengine-api"
      ],
      "execution_count": null,
      "outputs": [
        {
          "output_type": "stream",
          "text": [
            "Collecting pyOpenSSL>=0.11\n",
            "\u001b[?25l  Downloading https://files.pythonhosted.org/packages/b2/5e/06351ede29fd4899782ad335c2e02f1f862a887c20a3541f17c3fa1a3525/pyOpenSSL-20.0.1-py2.py3-none-any.whl (54kB)\n",
            "\r\u001b[K     |██████                          | 10kB 13.3MB/s eta 0:00:01\r\u001b[K     |████████████▏                   | 20kB 19.5MB/s eta 0:00:01\r\u001b[K     |██████████████████▏             | 30kB 11.6MB/s eta 0:00:01\r\u001b[K     |████████████████████████▎       | 40kB 10.3MB/s eta 0:00:01\r\u001b[K     |██████████████████████████████▎ | 51kB 5.6MB/s eta 0:00:01\r\u001b[K     |████████████████████████████████| 61kB 3.0MB/s \n",
            "\u001b[?25hRequirement already satisfied: six>=1.5.2 in /usr/local/lib/python3.7/dist-packages (from pyOpenSSL>=0.11) (1.15.0)\n",
            "Collecting cryptography>=3.2\n",
            "\u001b[?25l  Downloading https://files.pythonhosted.org/packages/b2/26/7af637e6a7e87258b963f1731c5982fb31cd507f0d90d91836e446955d02/cryptography-3.4.7-cp36-abi3-manylinux2014_x86_64.whl (3.2MB)\n",
            "\u001b[K     |████████████████████████████████| 3.2MB 8.0MB/s \n",
            "\u001b[?25hRequirement already satisfied: cffi>=1.12 in /usr/local/lib/python3.7/dist-packages (from cryptography>=3.2->pyOpenSSL>=0.11) (1.14.5)\n",
            "Requirement already satisfied: pycparser in /usr/local/lib/python3.7/dist-packages (from cffi>=1.12->cryptography>=3.2->pyOpenSSL>=0.11) (2.20)\n",
            "Installing collected packages: cryptography, pyOpenSSL\n",
            "Successfully installed cryptography-3.4.7 pyOpenSSL-20.0.1\n",
            "Requirement already satisfied: earthengine-api in /usr/local/lib/python3.7/dist-packages (0.1.260)\n",
            "Requirement already satisfied: httplib2<1dev,>=0.9.2 in /usr/local/lib/python3.7/dist-packages (from earthengine-api) (0.17.4)\n",
            "Requirement already satisfied: httplib2shim in /usr/local/lib/python3.7/dist-packages (from earthengine-api) (0.0.3)\n",
            "Requirement already satisfied: future in /usr/local/lib/python3.7/dist-packages (from earthengine-api) (0.16.0)\n",
            "Requirement already satisfied: google-auth>=1.4.1 in /usr/local/lib/python3.7/dist-packages (from earthengine-api) (1.28.1)\n",
            "Requirement already satisfied: google-cloud-storage in /usr/local/lib/python3.7/dist-packages (from earthengine-api) (1.18.1)\n",
            "Requirement already satisfied: six in /usr/local/lib/python3.7/dist-packages (from earthengine-api) (1.15.0)\n",
            "Requirement already satisfied: google-api-python-client<2,>=1.12.1 in /usr/local/lib/python3.7/dist-packages (from earthengine-api) (1.12.8)\n",
            "Requirement already satisfied: google-auth-httplib2>=0.0.3 in /usr/local/lib/python3.7/dist-packages (from earthengine-api) (0.0.4)\n",
            "Requirement already satisfied: certifi in /usr/local/lib/python3.7/dist-packages (from httplib2shim->earthengine-api) (2020.12.5)\n",
            "Requirement already satisfied: urllib3 in /usr/local/lib/python3.7/dist-packages (from httplib2shim->earthengine-api) (1.24.3)\n",
            "Requirement already satisfied: cachetools<5.0,>=2.0.0 in /usr/local/lib/python3.7/dist-packages (from google-auth>=1.4.1->earthengine-api) (4.2.1)\n",
            "Requirement already satisfied: pyasn1-modules>=0.2.1 in /usr/local/lib/python3.7/dist-packages (from google-auth>=1.4.1->earthengine-api) (0.2.8)\n",
            "Requirement already satisfied: setuptools>=40.3.0 in /usr/local/lib/python3.7/dist-packages (from google-auth>=1.4.1->earthengine-api) (56.0.0)\n",
            "Requirement already satisfied: rsa<5,>=3.1.4; python_version >= \"3.6\" in /usr/local/lib/python3.7/dist-packages (from google-auth>=1.4.1->earthengine-api) (4.7.2)\n",
            "Requirement already satisfied: google-resumable-media<0.5.0dev,>=0.3.1 in /usr/local/lib/python3.7/dist-packages (from google-cloud-storage->earthengine-api) (0.4.1)\n",
            "Requirement already satisfied: google-cloud-core<2.0dev,>=1.0.0 in /usr/local/lib/python3.7/dist-packages (from google-cloud-storage->earthengine-api) (1.0.3)\n",
            "Requirement already satisfied: uritemplate<4dev,>=3.0.0 in /usr/local/lib/python3.7/dist-packages (from google-api-python-client<2,>=1.12.1->earthengine-api) (3.0.1)\n",
            "Requirement already satisfied: google-api-core<2dev,>=1.21.0 in /usr/local/lib/python3.7/dist-packages (from google-api-python-client<2,>=1.12.1->earthengine-api) (1.26.3)\n",
            "Requirement already satisfied: pyasn1<0.5.0,>=0.4.6 in /usr/local/lib/python3.7/dist-packages (from pyasn1-modules>=0.2.1->google-auth>=1.4.1->earthengine-api) (0.4.8)\n",
            "Requirement already satisfied: packaging>=14.3 in /usr/local/lib/python3.7/dist-packages (from google-api-core<2dev,>=1.21.0->google-api-python-client<2,>=1.12.1->earthengine-api) (20.9)\n",
            "Requirement already satisfied: requests<3.0.0dev,>=2.18.0 in /usr/local/lib/python3.7/dist-packages (from google-api-core<2dev,>=1.21.0->google-api-python-client<2,>=1.12.1->earthengine-api) (2.23.0)\n",
            "Requirement already satisfied: pytz in /usr/local/lib/python3.7/dist-packages (from google-api-core<2dev,>=1.21.0->google-api-python-client<2,>=1.12.1->earthengine-api) (2018.9)\n",
            "Requirement already satisfied: googleapis-common-protos<2.0dev,>=1.6.0 in /usr/local/lib/python3.7/dist-packages (from google-api-core<2dev,>=1.21.0->google-api-python-client<2,>=1.12.1->earthengine-api) (1.53.0)\n",
            "Requirement already satisfied: protobuf>=3.12.0 in /usr/local/lib/python3.7/dist-packages (from google-api-core<2dev,>=1.21.0->google-api-python-client<2,>=1.12.1->earthengine-api) (3.12.4)\n",
            "Requirement already satisfied: pyparsing>=2.0.2 in /usr/local/lib/python3.7/dist-packages (from packaging>=14.3->google-api-core<2dev,>=1.21.0->google-api-python-client<2,>=1.12.1->earthengine-api) (2.4.7)\n",
            "Requirement already satisfied: idna<3,>=2.5 in /usr/local/lib/python3.7/dist-packages (from requests<3.0.0dev,>=2.18.0->google-api-core<2dev,>=1.21.0->google-api-python-client<2,>=1.12.1->earthengine-api) (2.10)\n",
            "Requirement already satisfied: chardet<4,>=3.0.2 in /usr/local/lib/python3.7/dist-packages (from requests<3.0.0dev,>=2.18.0->google-api-core<2dev,>=1.21.0->google-api-python-client<2,>=1.12.1->earthengine-api) (3.0.4)\n"
          ],
          "name": "stdout"
        }
      ]
    },
    {
      "cell_type": "code",
      "metadata": {
        "colab": {
          "base_uri": "https://localhost:8080/"
        },
        "id": "wFfqbRvSlbmp",
        "outputId": "a86bed7b-248e-4ad5-b733-eaf204b47758"
      },
      "source": [
        "!earthengine authenticate\n",
        "\n",
        "import ee\n",
        "ee.Initialize()\n",
        "\n",
        "image = ee.Image('srtm90_v4')\n",
        "print(image.getInfo())"
      ],
      "execution_count": null,
      "outputs": [
        {
          "output_type": "stream",
          "text": [
            "WARNING:tensorflow:From /usr/local/lib/python3.7/dist-packages/tensorflow/python/compat/v2_compat.py:96: disable_resource_variables (from tensorflow.python.ops.variable_scope) is deprecated and will be removed in a future version.\n",
            "Instructions for updating:\n",
            "non-resource variables are not supported in the long term\n",
            "To authorize access needed by Earth Engine, open the following URL in a web browser and follow the instructions. If the web browser does not start automatically, please manually browse the URL below.\n",
            "\n",
            "    https://accounts.google.com/o/oauth2/auth?client_id=517222506229-vsmmajv00ul0bs7p89v5m89qs8eb9359.apps.googleusercontent.com&scope=https%3A%2F%2Fwww.googleapis.com%2Fauth%2Fearthengine+https%3A%2F%2Fwww.googleapis.com%2Fauth%2Fdevstorage.full_control&redirect_uri=urn%3Aietf%3Awg%3Aoauth%3A2.0%3Aoob&response_type=code&code_challenge=76k9K-rMLvx_XxvKc8ZUYvS6JxZ-TpaI8CCiqgtRsfQ&code_challenge_method=S256\n",
            "\n",
            "The authorization workflow will generate a code, which you should paste in the box below. \n",
            "Enter verification code: 4/1AY0e-g7Y8J19sxib5kvFMIkYW__zZlbatRovkP0I6yON9hidYz4gcQJotSI\n",
            "\n",
            "Successfully saved authorization token.\n",
            "{'type': 'Image', 'bands': [{'id': 'elevation', 'data_type': {'type': 'PixelType', 'precision': 'int', 'min': -32768, 'max': 32767}, 'dimensions': [432000, 144000], 'crs': 'EPSG:4326', 'crs_transform': [0.000833333333333, 0, -180, 0, -0.000833333333333, 60]}], 'version': 1494271934303000.0, 'id': 'srtm90_v4', 'properties': {'system:time_start': 950227200000, 'system:time_end': 951177600000, 'system:asset_size': 18827626666}}\n"
          ],
          "name": "stdout"
        }
      ]
    },
    {
      "cell_type": "code",
      "metadata": {
        "id": "E0H2P-p1lcVw"
      },
      "source": [
        "Test_AssetID_not_exist = 'projects/ColoradoView/ET_Retrieval/Denver/2017-01-30'\n",
        "Test_AssetID_does_exist = 'projects/ColoradoView/ET_Retrieval/Denver/2017-01-31'"
      ],
      "execution_count": null,
      "outputs": []
    },
    {
      "cell_type": "code",
      "metadata": {
        "colab": {
          "base_uri": "https://localhost:8080/"
        },
        "id": "Y_bB35drlyxB",
        "outputId": "8225a17d-ca94-4813-a62b-d98c9b9391fa"
      },
      "source": [
        "try:\n",
        "  ret_info_exist = ee.data.getAsset(Test_AssetID_does_exist)\n",
        "  print(ret_info_exist)\n",
        "  ret_info_not_exist = ee.data.getAsset(Test_AssetID_not_exist)\n",
        "  print(ret_info_not_exist)\n",
        "except ee.ee_exception.EEException as Err:\n",
        "  #print(sys.exc_info()[0])\n",
        "  print(Err)\n"
      ],
      "execution_count": null,
      "outputs": [
        {
          "output_type": "stream",
          "text": [
            "{'type': 'IMAGE', 'name': 'projects/earthengine-legacy/assets/projects/ColoradoView/ET_Retrieval/Denver/2017-01-31', 'id': 'projects/ColoradoView/ET_Retrieval/Denver/2017-01-31', 'updateTime': '2021-04-27T15:10:02.556312Z', 'geometry': {'type': 'Polygon', 'coordinates': [[[-105.11022535606553, 39.91437015281795], [-105.1102363296469, 39.91432576191721], [-105.110234812973, 39.61435573010939], [-105.11009233490594, 39.61423125473787], [-105.10996359622034, 39.614085696514486], [-104.98248076202336, 39.61408580545438], [-104.85507719348342, 39.61408575500275], [-104.72767366369688, 39.614085768937], [-104.60027035830497, 39.61408578252669], [-104.60010868756974, 39.61419542971396], [-104.59991962729185, 39.614294538386545], [-104.599918115522, 39.91430318443817], [-104.60006111123113, 39.91442751298272], [-104.60018258654777, 39.914564658101035], [-104.60024047855212, 39.91457313026904], [-104.72767366369688, 39.91457318061739], [-104.85507719348342, 39.9145731745171], [-104.98248076202336, 39.91457318312519], [-105.10988464011179, 39.914573205511324], [-105.11004665630323, 39.914463434638435], [-105.11022535606553, 39.91437015281795]]]}, 'bands': [{'id': 'Actual_Evapotranspiration', 'dataType': {'precision': 'DOUBLE'}, 'grid': {'crsCode': 'EPSG:4326', 'dimensions': {'width': 1892, 'height': 1114}, 'affineTransform': {'scaleX': 0.0002694945852358564, 'translateX': -105.11001910311153, 'scaleY': -0.0002694945852358564, 'translateY': 39.91443795667527}}, 'pyramidingPolicy': 'MEAN'}], 'sizeBytes': '56161'}\n",
            "Asset \"projects/earthengine-legacy/assets/projects/ColoradoView/ET_Retrieval/Denver/2017-01-30\" not found.\n"
          ],
          "name": "stdout"
        }
      ]
    },
    {
      "cell_type": "code",
      "metadata": {
        "id": "CGhi6bevmsjc"
      },
      "source": [
        "def check_asset_existence(asset_id_str: str) -> bool:\n",
        "  try:\n",
        "    ret_info = ee.data.getAsset(asset_id_str)\n",
        "    return True\n",
        "  except ee.ee_exception.EEException as err:\n",
        "    return False"
      ],
      "execution_count": null,
      "outputs": []
    },
    {
      "cell_type": "code",
      "metadata": {
        "colab": {
          "base_uri": "https://localhost:8080/"
        },
        "id": "Hahrwqiwnq2D",
        "outputId": "71afb794-cf79-4e3b-ec79-16751c4d3f98"
      },
      "source": [
        "print(check_asset_existence(Test_AssetID_not_exist))\n",
        "print(check_asset_existence(Test_AssetID_does_exist))"
      ],
      "execution_count": null,
      "outputs": [
        {
          "output_type": "stream",
          "text": [
            "False\n",
            "True\n"
          ],
          "name": "stdout"
        }
      ]
    },
    {
      "cell_type": "code",
      "metadata": {
        "colab": {
          "base_uri": "https://localhost:8080/"
        },
        "id": "1qYnoAxQ7aPz",
        "outputId": "f974e333-67fa-4557-a764-54640beced86"
      },
      "source": [
        "val1 = np.array([2018])[0]\n",
        "print(type(val1), val1)\n",
        "val1_str = str(val1)\n",
        "print(type(val1_str), val1_str)"
      ],
      "execution_count": null,
      "outputs": [
        {
          "output_type": "stream",
          "name": "stdout",
          "text": [
            "<class 'numpy.int64'> 2018\n",
            "<class 'str'> 2018\n"
          ]
        }
      ]
    }
  ]
}