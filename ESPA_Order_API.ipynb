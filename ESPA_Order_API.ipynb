{
  "nbformat": 4,
  "nbformat_minor": 0,
  "metadata": {
    "anaconda-cloud": {},
    "colab": {
      "name": "Copy of ESPA_Order_API.ipynb",
      "provenance": [],
      "collapsed_sections": [
        "PcUpBzFlrhVQ",
        "MtT3DY8zrhVY",
        "F9ntoO3ErhVa",
        "748LBps_rhVa",
        "hhcL9aJErhVb",
        "VNAIU8PrrhVe",
        "L-fQZEYLrhVf",
        "tTY8JPhZrhVg",
        "PhSHMwRNrhVh",
        "M3x2CA-UrhVh",
        "iBNMAtntrhVi",
        "LOYbtJsJCmp-",
        "PzIxQPm1CqT2"
      ],
      "include_colab_link": true
    },
    "kernelspec": {
      "display_name": "Python 3",
      "name": "python3"
    }
  },
  "cells": [
    {
      "cell_type": "markdown",
      "metadata": {
        "id": "view-in-github",
        "colab_type": "text"
      },
      "source": [
        "<a href=\"https://colab.research.google.com/github/ReaganJHarris/ET_Retrieval/blob/master/ESPA_Order_API.ipynb\" target=\"_parent\"><img src=\"https://colab.research.google.com/assets/colab-badge.svg\" alt=\"Open In Colab\"/></a>"
      ]
    },
    {
      "cell_type": "markdown",
      "metadata": {
        "id": "PcUpBzFlrhVQ"
      },
      "source": [
        "# ESPA-API DEMO code\n",
        "\n",
        "Since many of our services written in python also interact with the API, we have\n",
        "this example as a quick run-through which should hopefully get anyone started\n",
        "towards building their own simple python services capable of interacting\n",
        "with ESPA.\n",
        "\n",
        "## Official documentation:\n",
        "* See the [ESPA API Source Code](https://github.com/USGS-EROS/espa-api/)\n",
        "* Visit the [ESPA On-Demand Interface](https://espa.cr.usgs.gov)\n",
        "\n",
        "For questions regarding this source code, or the ESPA project, please use the\n",
        "[Landsat Contact Us](https://landsat.usgs.gov/contact) page and specify\n",
        "**USGS ESPA** in the \"Subject\" section.\n",
        "\n",
        "### WARNING! _This example is only provided as is._\n",
        "\n",
        "---\n",
        "\n",
        "---"
      ]
    },
    {
      "cell_type": "code",
      "metadata": {
        "colab": {
          "base_uri": "https://localhost:8080/"
        },
        "id": "YJmEExYCrhVW",
        "outputId": "57c126e8-251a-4561-899e-d18bc121c83a"
      },
      "source": [
        "import platform\n",
        "print(platform.python_version())"
      ],
      "execution_count": null,
      "outputs": [
        {
          "output_type": "stream",
          "text": [
            "3.7.10\n"
          ],
          "name": "stdout"
        }
      ]
    },
    {
      "cell_type": "markdown",
      "metadata": {
        "id": "MtT3DY8zrhVY"
      },
      "source": [
        "## Dependencies\n",
        "We will use the [requests](http://docs.python-requests.org/en/master/)\n",
        "library, although similar operations are available through the\n",
        "[Standard Python Libraries](https://docs.python.org/2/library/internet.html)"
      ]
    },
    {
      "cell_type": "code",
      "metadata": {
        "collapsed": true,
        "id": "OZumPkhXrhVY"
      },
      "source": [
        "import os\n",
        "import requests\n",
        "import json\n",
        "import getpass\n",
        "\n",
        "import urllib.request"
      ],
      "execution_count": null,
      "outputs": []
    },
    {
      "cell_type": "code",
      "metadata": {
        "id": "nGFejiIXFyz3"
      },
      "source": [
        "from  xarray import open_rasterio\n"
      ],
      "execution_count": null,
      "outputs": []
    },
    {
      "cell_type": "code",
      "metadata": {
        "id": "YfsRLyI6QfFI"
      },
      "source": [
        "import matplotlib.pyplot as plt"
      ],
      "execution_count": null,
      "outputs": []
    },
    {
      "cell_type": "code",
      "metadata": {
        "id": "GgowJOpEGT47",
        "colab": {
          "base_uri": "https://localhost:8080/"
        },
        "outputId": "9f864dbc-9eb9-44f4-892d-a588b8fd5531"
      },
      "source": [
        "!pip install -U rasterio"
      ],
      "execution_count": null,
      "outputs": [
        {
          "output_type": "stream",
          "text": [
            "Collecting rasterio\n",
            "\u001b[?25l  Downloading https://files.pythonhosted.org/packages/a3/6e/b32a74bca3d4fca8286c6532cd5795ca8a2782125c23b383448ecd9a70b6/rasterio-1.2.6-cp37-cp37m-manylinux1_x86_64.whl (19.3MB)\n",
            "\u001b[K     |████████████████████████████████| 19.3MB 1.5MB/s \n",
            "\u001b[?25hRequirement already satisfied, skipping upgrade: click>=4.0 in /usr/local/lib/python3.7/dist-packages (from rasterio) (7.1.2)\n",
            "Collecting cligj>=0.5\n",
            "  Downloading https://files.pythonhosted.org/packages/73/86/43fa9f15c5b9fb6e82620428827cd3c284aa933431405d1bcf5231ae3d3e/cligj-0.7.2-py3-none-any.whl\n",
            "Collecting snuggs>=1.4.1\n",
            "  Downloading https://files.pythonhosted.org/packages/cc/0e/d27d6e806d6c0d1a2cfdc5d1f088e42339a0a54a09c3343f7f81ec8947ea/snuggs-1.4.7-py3-none-any.whl\n",
            "Collecting affine\n",
            "  Downloading https://files.pythonhosted.org/packages/ac/a6/1a39a1ede71210e3ddaf623982b06ecfc5c5c03741ae659073159184cd3e/affine-2.3.0-py2.py3-none-any.whl\n",
            "Requirement already satisfied, skipping upgrade: setuptools in /usr/local/lib/python3.7/dist-packages (from rasterio) (57.0.0)\n",
            "Requirement already satisfied, skipping upgrade: certifi in /usr/local/lib/python3.7/dist-packages (from rasterio) (2021.5.30)\n",
            "Requirement already satisfied, skipping upgrade: numpy in /usr/local/lib/python3.7/dist-packages (from rasterio) (1.19.5)\n",
            "Collecting click-plugins\n",
            "  Downloading https://files.pythonhosted.org/packages/e9/da/824b92d9942f4e472702488857914bdd50f73021efea15b4cad9aca8ecef/click_plugins-1.1.1-py2.py3-none-any.whl\n",
            "Requirement already satisfied, skipping upgrade: attrs in /usr/local/lib/python3.7/dist-packages (from rasterio) (21.2.0)\n",
            "Requirement already satisfied, skipping upgrade: pyparsing>=2.1.6 in /usr/local/lib/python3.7/dist-packages (from snuggs>=1.4.1->rasterio) (2.4.7)\n",
            "Installing collected packages: cligj, snuggs, affine, click-plugins, rasterio\n",
            "Successfully installed affine-2.3.0 click-plugins-1.1.1 cligj-0.7.2 rasterio-1.2.6 snuggs-1.4.7\n"
          ],
          "name": "stdout"
        }
      ]
    },
    {
      "cell_type": "code",
      "metadata": {
        "id": "WUWT7SGzHG8_"
      },
      "source": [
        "# !pip install --force-reinstall Affine"
      ],
      "execution_count": null,
      "outputs": []
    },
    {
      "cell_type": "code",
      "metadata": {
        "id": "f8FkCV-fHJpu"
      },
      "source": [
        "# import affine"
      ],
      "execution_count": null,
      "outputs": []
    },
    {
      "cell_type": "markdown",
      "metadata": {
        "id": "W_4uBqnsrhVY"
      },
      "source": [
        "The current URL hosting the ESPA interfaces has reached a stable version 1.0"
      ]
    },
    {
      "cell_type": "code",
      "metadata": {
        "collapsed": true,
        "id": "Ad7GtxsvrhVZ"
      },
      "source": [
        "host = 'https://espa.cr.usgs.gov/api/v1/'"
      ],
      "execution_count": null,
      "outputs": []
    },
    {
      "cell_type": "markdown",
      "metadata": {
        "id": "SY18gFPOrhVZ"
      },
      "source": [
        "ESPA uses the ERS credentials for identifying users"
      ]
    },
    {
      "cell_type": "code",
      "metadata": {
        "colab": {
          "base_uri": "https://localhost:8080/"
        },
        "id": "SHPECXyjrhVZ",
        "outputId": "f2714920-cd79-43f2-9c6b-9a2822285724"
      },
      "source": [
        "username = 'earth_explorer_username'\n",
        "password = getpass.getpass()"
      ],
      "execution_count": null,
      "outputs": [
        {
          "output_type": "stream",
          "text": [
            "··········\n"
          ],
          "name": "stdout"
        }
      ]
    },
    {
      "cell_type": "markdown",
      "metadata": {
        "id": "RQhFkCQ6rhVZ"
      },
      "source": [
        "---\n",
        "\n",
        "---"
      ]
    },
    {
      "cell_type": "markdown",
      "metadata": {
        "id": "F9ntoO3ErhVa"
      },
      "source": [
        "## espa_api: A Function\n",
        "First and foremost, define a simple function for interacting with the API. \n",
        "\n",
        "The key things to watch for:\n",
        "\n",
        "* Always scrub for a `\"messages\"` field returned in the response, it is only informational about a request\n",
        "  * **Errors** (`\"errors\"`): Brief exlaination about why a request failed\n",
        "  * **Warnings** (`\"warnings\"`): Cautions about a successful response\n",
        "* Always make sure the requested HTTP `status_code` returned is valid \n",
        "  * **GET**: `200 OK`: The requested resource was successfully fetched (result can still be empty)\n",
        "  * **POST**: `201 Created`: The requested resource was created\n",
        "  * **PUT**: `202 Accepted`: The requested resource was updated"
      ]
    },
    {
      "cell_type": "code",
      "metadata": {
        "collapsed": true,
        "id": "lHwBiCiyrhVa"
      },
      "source": [
        "def espa_api(endpoint, verb='get', body=None, uauth=None):\n",
        "    \"\"\" Suggested simple way to interact with the ESPA JSON REST API \"\"\"\n",
        "    auth_tup = uauth if uauth else (username, password)\n",
        "    response = getattr(requests, verb)(host + endpoint, auth=auth_tup, json=body)\n",
        "    print('{} {}'.format(response.status_code, response.reason))\n",
        "    data = response.json()\n",
        "    if isinstance(data, dict):\n",
        "        messages = data.pop(\"messages\", None)  \n",
        "        if messages:\n",
        "            print(json.dumps(messages, indent=4))\n",
        "    try:\n",
        "        response.raise_for_status()\n",
        "    except Exception as e:\n",
        "        print(e)\n",
        "        return None\n",
        "    else:\n",
        "        return data"
      ],
      "execution_count": null,
      "outputs": []
    },
    {
      "cell_type": "markdown",
      "metadata": {
        "id": "748LBps_rhVa"
      },
      "source": [
        "## General Interactions: Authentication\n",
        "Basic call to get the current user's information. It requires valid credentials, and is a good check that the system is available"
      ]
    },
    {
      "cell_type": "code",
      "metadata": {
        "id": "RFyngCKqrhVa"
      },
      "source": [
        "print('GET /api/v1/user')\n",
        "resp = espa_api('user')\n",
        "print(json.dumps(resp, indent=4))"
      ],
      "execution_count": null,
      "outputs": []
    },
    {
      "cell_type": "markdown",
      "metadata": {
        "id": "TEApFdDirhVb"
      },
      "source": [
        "Here, we can see what an error response will look like:"
      ]
    },
    {
      "cell_type": "code",
      "metadata": {
        "id": "HdVXOG60rhVb"
      },
      "source": [
        "print('GET /api/v1/user')\n",
        "espa_api('user', uauth=('invalid', 'invalid'))"
      ],
      "execution_count": null,
      "outputs": []
    },
    {
      "cell_type": "markdown",
      "metadata": {
        "id": "hhcL9aJErhVb"
      },
      "source": [
        "## General Interactions: Available Options\n",
        "\n",
        "ESPA offers several services, descriptions can be found here: \n",
        "* [AVAILABLE-PRODUCTS](/docs/available-products.md)\n",
        "* [CUSTOMIZATION](/docs/customization.md)"
      ]
    },
    {
      "cell_type": "markdown",
      "metadata": {
        "id": "-D5oiJx9rhVc"
      },
      "source": [
        "Call to demonstrate what is returned from available-products"
      ]
    },
    {
      "cell_type": "code",
      "metadata": {
        "id": "GzvPI4H_AWxj"
      },
      "source": [
        "print('GET /api/v1/available-products')\n",
        "# avail_list = {'inputs': ['LC08_L1TP_034032_20180102_20180118_01_T1'\n",
        "#                         ]\n",
        "#              }\n",
        "\n",
        "avail_list = {'inputs': ['LE07_L1TP_033032_20130427_20160908_01_T1'\n",
        "                        ]\n",
        "             }\n",
        "\n",
        "resp = espa_api('available-products', body=avail_list)\n",
        "print(json.dumps(resp, indent=4))"
      ],
      "execution_count": null,
      "outputs": []
    },
    {
      "cell_type": "markdown",
      "metadata": {
        "id": "JXRBx9vsrhVc"
      },
      "source": [
        "ESPA can produce outputs all of the same geographic projections.  \n",
        "\n",
        "Call to show the available projection parameters that can be used:"
      ]
    },
    {
      "cell_type": "code",
      "metadata": {
        "id": "LT9sKrKsrhVd"
      },
      "source": [
        "print('GET /api/v1/projections')\n",
        "projs = espa_api('projections')\n",
        "print(type(projs.keys()))\n",
        "print(projs.keys())\n",
        "#print(json.dumps(projs.keys()))\n",
        "print(json.dumps(projs))"
      ],
      "execution_count": null,
      "outputs": []
    },
    {
      "cell_type": "markdown",
      "metadata": {
        "id": "DieOvMVqrhVd"
      },
      "source": [
        "This is a Schema Definition, useful for building a valid order\n",
        "\n",
        "Example (*UTM Projection*):"
      ]
    },
    {
      "cell_type": "code",
      "metadata": {
        "id": "pRejjnGdDBEQ"
      },
      "source": [
        "print(json.dumps(projs['utm']['properties'], indent=4))"
      ],
      "execution_count": null,
      "outputs": []
    },
    {
      "cell_type": "code",
      "metadata": {
        "id": "3zfevLeSrhVd"
      },
      "source": [
        "#print(json.dumps(projs['utm']['properties'], indent=4))"
      ],
      "execution_count": null,
      "outputs": []
    },
    {
      "cell_type": "markdown",
      "metadata": {
        "id": "lnDi2S6IrhVd"
      },
      "source": [
        "### More resources about the API\n",
        "\n",
        "For further reading: \n",
        "\n",
        "* [API-REQUIREMENTS](/docs/api-requirements.md)\n",
        "* [API-RESOURCES-LIST](/docs/api-resources-list.md)\n",
        "* [Product Flow](/docs/product_flow.txt)\n",
        "* [TERMS](/docs/terms.md)\n",
        "\n",
        "---\n",
        "\n",
        "---"
      ]
    },
    {
      "cell_type": "markdown",
      "metadata": {
        "id": "VNAIU8PrrhVe"
      },
      "source": [
        "## Practical Example: Building An Order\n",
        "Here we use two different Landsat sensors to build up an order, and then place the order into the system"
      ]
    },
    {
      "cell_type": "code",
      "metadata": {
        "id": "ts8oUH7YyFD4"
      },
      "source": [
        "# https://earthexplorer.usgs.gov/\n",
        "# Dataset: Landsat 8 OLI/TIRS C1 Level-2\n"
      ],
      "execution_count": null,
      "outputs": []
    },
    {
      "cell_type": "code",
      "metadata": {
        "id": "wUFs91x8rhVe"
      },
      "source": [
        "l8_ls = ['LC08_L1TP_032032_20180104_20180118_01_T1',\n",
        "'LC08_L1TP_032033_20180104_20180118_01_T1',\n",
        "'LC08_L1TP_032032_20180120_20180206_01_T1',\n",
        "'LC08_L1TP_032033_20180120_20180206_01_T1',\n",
        "'LC08_L1TP_032032_20180205_20180221_01_T1',\n",
        "'LC08_L1TP_032033_20180205_20180221_01_T1',\n",
        "'LC08_L1TP_032032_20180221_20180308_01_T1',\n",
        "'LC08_L1TP_032033_20180221_20180308_01_T1',\n",
        "'LC08_L1TP_032032_20180309_20180320_01_T1',\n",
        "'LC08_L1TP_032033_20180309_20180320_01_T1',\n",
        "'LC08_L1TP_032032_20180325_20180404_01_T1',\n",
        "'LC08_L1TP_032033_20180325_20180404_01_T1',\n",
        "'LC08_L1TP_032032_20180410_20180417_01_T1',\n",
        "'LC08_L1TP_032033_20180410_20180417_01_T1',\n",
        "'LC08_L1TP_032032_20180426_20180502_01_T1',\n",
        "'LC08_L1TP_032033_20180426_20180502_01_T1',\n",
        "'LC08_L1TP_032033_20180512_20180517_01_T1',\n",
        "'LC08_L1TP_032033_20180528_20180605_01_T1',\n",
        "'LC08_L1TP_032032_20180613_20180703_01_T1',\n",
        "'LC08_L1TP_032033_20180613_20180703_01_T1',\n",
        "'LC08_L1TP_032032_20180629_20180716_01_T1',\n",
        "'LC08_L1TP_032033_20180629_20180716_01_T1',\n",
        "'LC08_L1TP_032032_20180715_20180730_01_T1',\n",
        "'LC08_L1TP_032033_20180715_20180730_01_T1',\n",
        "'LC08_L1TP_032032_20180731_20180814_01_T1',\n",
        "'LC08_L1TP_032033_20180731_20180814_01_T1',\n",
        "'LC08_L1TP_032032_20180816_20180829_01_T1',\n",
        "'LC08_L1TP_032033_20180816_20180829_01_T1',\n",
        "'LC08_L1TP_032032_20180901_20180912_01_T1',\n",
        "'LC08_L1TP_032033_20180901_20180912_01_T1',\n",
        "'LC08_L1TP_032032_20180917_20180928_01_T1',\n",
        "'LC08_L1TP_032033_20180917_20180928_01_T1',\n",
        "'LC08_L1TP_032032_20181003_20181010_01_T1',\n",
        "'LC08_L1TP_032033_20181003_20181010_01_T1',\n",
        "'LC08_L1TP_032032_20181019_20181031_01_T1',\n",
        "'LC08_L1TP_032033_20181019_20181031_01_T1',\n",
        "'LC08_L1TP_032032_20181104_20181115_01_T1',\n",
        "'LC08_L1TP_032033_20181104_20181115_01_T1',\n",
        "'LC08_L1TP_032032_20181120_20181129_01_T1',\n",
        "'LC08_L1TP_032033_20181120_20181129_01_T1',\n",
        "'LC08_L1TP_032033_20181222_20181227_01_T1'\n",
        "\n",
        "        ]\n",
        "         \n",
        "\n",
        "# l5_ls = ['LT05_L1TP_033032_20110516_20160901_01_T1']\n",
        "\n",
        "\n",
        "# Differing products across the sensors\n",
        "# l7_prods = ['et']\n",
        "# l5_prods = ['et']\n",
        "#l8_prods = ['s', 'r']\n",
        "l8_prods = ['et']\n",
        "\n",
        "# Standard Albers CONUS\n",
        "# projection = {'aea': {'standard_parallel_1': 29.5,\n",
        "#                       'standard_parallel_2': 45.5,\n",
        "#                       'central_meridian': -96.0,\n",
        "#                       'latitude_of_origin': 23.0,\n",
        "#                       'false_easting': 0,\n",
        "#                       'false_northing': 0,\n",
        "#                       'datum': 'nad83'}}\n",
        "\n",
        "#'datum': 'wgs84'\n",
        "# UTM Zone\t13\n",
        "# Scene Center Latitude\t40.33272\n",
        "# Scene Center Longitude\t-104.21059\n",
        "# Corner Upper Left Latitude\t41.38717\n",
        "# Corner Upper Left Longitude\t-105.58009\n",
        "# Corner Upper Right Latitude\t41.36793\n",
        "# Corner Upper Right Longitude\t-102.81789\n",
        "# Corner Lower Left Latitude\t39.27099\n",
        "# Corner Lower Left Longitude\t-105.56225\n",
        "# Corner Lower Right Latitude\t39.25314\n",
        "# Corner Lower Right Longitude\t-102.88495\n",
        "\n",
        "# Let available-products place the acquisitions under their respective sensors\n",
        "#ls = l8_ls + l7_ls\n",
        "# ls = l7_ls + l5_ls\n",
        "ls = l8_ls\n",
        "\n",
        "print('GET /api/v1/available-products')\n",
        "order = espa_api('available-products', body=dict(inputs=ls))\n",
        "print(json.dumps(order, indent=4))"
      ],
      "execution_count": null,
      "outputs": []
    },
    {
      "cell_type": "markdown",
      "metadata": {
        "id": "7wj-wrUJrhVe"
      },
      "source": [
        "**NOTE**: Here we will not need to know what the sensor names were for the Product IDs, thanks to the response from this `available-products` resource. "
      ]
    },
    {
      "cell_type": "code",
      "metadata": {
        "id": "deNoO-kyGeAS"
      },
      "source": [
        "# Replace the available products that was returned with what we want\n",
        "for sensor in order.keys():\n",
        "    if isinstance(order[sensor], dict) and order[sensor].get('inputs'):\n",
        "        # if set(l7_ls) & set(order[sensor]['inputs']):\n",
        "        #    order[sensor]['products'] = l7_prods\n",
        "        if set(l8_ls) & set(order[sensor]['inputs']):\n",
        "            order[sensor]['products'] = l8_prods\n",
        "        # if set(l5_ls) & set(order[sensor]['inputs']):\n",
        "        #     order[sensor]['products'] = l5_prods\n",
        "\n",
        "# Add in the rest of the order information\n",
        "# order['projection'] = projection\n",
        "order['format'] = 'gtiff'\n",
        "order['resampling_method'] = 'cc'\n",
        "order['note'] = 'API Demo Jupyter!!'\n",
        "\n",
        "# Notice how it has changed from the original call available-products\n",
        "print(json.dumps(order, indent=4))"
      ],
      "execution_count": null,
      "outputs": []
    },
    {
      "cell_type": "markdown",
      "metadata": {
        "id": "L-fQZEYLrhVf"
      },
      "source": [
        "#### Place the order"
      ]
    },
    {
      "cell_type": "code",
      "metadata": {
        "id": "RG5UpcM4rhVf"
      },
      "source": [
        "# Place the order\n",
        "print('POST /api/v1/order')\n",
        "resp = espa_api('order', verb='post', body=order)\n",
        "print(json.dumps(resp, indent=4))"
      ],
      "execution_count": null,
      "outputs": []
    },
    {
      "cell_type": "markdown",
      "metadata": {
        "id": "FCB1zSpdrhVg"
      },
      "source": [
        "If successful, we will get our order-id"
      ]
    },
    {
      "cell_type": "code",
      "metadata": {
        "id": "PwdfCwHbrhVg"
      },
      "source": [
        "orderid = resp['orderid']\n",
        "print(orderid)"
      ],
      "execution_count": null,
      "outputs": []
    },
    {
      "cell_type": "code",
      "metadata": {
        "id": "Zm904h-YCUkb"
      },
      "source": [
        "orderid = ''"
      ],
      "execution_count": null,
      "outputs": []
    },
    {
      "cell_type": "markdown",
      "metadata": {
        "id": "tTY8JPhZrhVg"
      },
      "source": [
        "## Check the status of an order\n"
      ]
    },
    {
      "cell_type": "code",
      "metadata": {
        "id": "ZjE1yGdZrhVg"
      },
      "source": [
        "print('GET /api/v1/order-status/{}'.format(orderid))\n",
        "resp = espa_api('order-status/{}'.format(orderid))\n",
        "print(json.dumps(resp, indent=4))"
      ],
      "execution_count": null,
      "outputs": []
    },
    {
      "cell_type": "markdown",
      "metadata": {
        "id": "_Kmiz3UGrhVg"
      },
      "source": [
        "Now, we can check for any completed products, and get the download url's for completed scenes"
      ]
    },
    {
      "cell_type": "code",
      "metadata": {
        "id": "VirGdxC2rhVg"
      },
      "source": [
        "print('GET /api/v1/item-status/{0}'.format(orderid))\n",
        "resp = espa_api('item-status/{0}'.format(orderid), body={'status': 'complete'})\n",
        "print(json.dumps(resp[orderid], indent=4))"
      ],
      "execution_count": null,
      "outputs": []
    },
    {
      "cell_type": "code",
      "metadata": {
        "id": "X996qkE4rhVh"
      },
      "source": [
        "# Once the order is completed or partially completed, can get the download url's\n",
        "for item in resp[orderid]:\n",
        "    print(\"URL: {0}\".format(item.get('product_dload_url')))"
      ],
      "execution_count": null,
      "outputs": []
    },
    {
      "cell_type": "markdown",
      "metadata": {
        "id": "PhSHMwRNrhVh"
      },
      "source": [
        "# Find previous orders \n",
        "\n",
        "List backlog orders for the authenticated user."
      ]
    },
    {
      "cell_type": "code",
      "metadata": {
        "id": "hXm6yp0nrhVh"
      },
      "source": [
        "print('GET /api/v1/list-orders')\n",
        "filters = {\"status\": [\"complete\", \"ordered\"]}  # Here, we ignore any purged orders\n",
        "resp = espa_api('list-orders', body=filters)\n",
        "print(json.dumps(resp, indent=4))"
      ],
      "execution_count": null,
      "outputs": []
    },
    {
      "cell_type": "markdown",
      "metadata": {
        "id": "M3x2CA-UrhVh"
      },
      "source": [
        "## Emergency halt an Order\n",
        "### PLEASE BE CAREFUL!\n",
        "\n",
        "ESPA processes your orders in the sequence in which they are recieved.  \n",
        "You may want to remove blocking orders in your queue, to prioritize your latest orders"
      ]
    },
    {
      "cell_type": "code",
      "metadata": {
        "id": "BfFQBwDlrhVi"
      },
      "source": [
        "# In-process orders\n",
        "print('GET /api/v1/list-orders')\n",
        "filters = {\"status\": [\"ordered\"]}\n",
        "orders = espa_api('list-orders', body=filters)\n",
        "\n",
        "# Here we cancel an incomplete order\n",
        "orderid = orders[0]\n",
        "cancel_request = {\"orderid\": orderid, \"status\": \"cancelled\"}\n",
        "print('PUT /api/v1/order')\n",
        "order_status = espa_api('order', verb='put', body=cancel_request)\n",
        "\n",
        "print(json.dumps(order_status, indent=4))"
      ],
      "execution_count": null,
      "outputs": []
    },
    {
      "cell_type": "code",
      "metadata": {
        "id": "0tYpQ257itdU"
      },
      "source": [
        "# orders = [\"espa-reaganjh@rams.colostate.edu-06222021-150600-376\",\n",
        "#   \"espa-reaganjh@rams.colostate.edu-06222021-145427-509\",\n",
        "#   \"espa-reaganjh@rams.colostate.edu-06222021-144014-737\",\n",
        "#   \"espa-reaganjh@rams.colostate.edu-06222021-143222-718\",\n",
        "#   \"espa-reaganjh@rams.colostate.edu-06222021-142042-040\"\n",
        "         \n",
        "# ]\n",
        "for order_id in orders:\n",
        "  print('GET /api/v1/list-orders')\n",
        "  filters = {\"status\": [\"ordered\"]}\n",
        "  orders = espa_api('list-orders', body=filters)\n",
        "\n",
        "  # Here we cancel an incomplete order\n",
        "  orderid = orders[0]\n",
        "  cancel_request = {\"orderid\": order_id, \"status\": \"cancelled\"}\n",
        "  print('PUT /api/v1/order')\n",
        "  order_status = espa_api('order', verb='put', body=cancel_request)\n",
        "\n",
        "  print(json.dumps(order_status, indent=4))"
      ],
      "execution_count": null,
      "outputs": []
    },
    {
      "cell_type": "markdown",
      "metadata": {
        "id": "iBNMAtntrhVi"
      },
      "source": [
        "# Python Script\n",
        "\n",
        "This notebook is available as a script for [download here](/examples/api_demo.py)."
      ]
    },
    {
      "cell_type": "code",
      "metadata": {
        "id": "0OLiFwfHCpeK"
      },
      "source": [
        ""
      ],
      "execution_count": null,
      "outputs": []
    },
    {
      "cell_type": "markdown",
      "metadata": {
        "id": "LOYbtJsJCmp-"
      },
      "source": [
        "# Download data"
      ]
    },
    {
      "cell_type": "markdown",
      "metadata": {
        "id": "PzIxQPm1CqT2"
      },
      "source": [
        "## Google Drive\n"
      ]
    },
    {
      "cell_type": "code",
      "metadata": {
        "colab": {
          "base_uri": "https://localhost:8080/"
        },
        "id": "KX-F59bsCobX",
        "outputId": "8831752a-7bca-49ca-c54c-5e93018d9bc8"
      },
      "source": [
        "from google.colab import drive\n",
        "drive.mount('/gdrive')"
      ],
      "execution_count": null,
      "outputs": [
        {
          "output_type": "stream",
          "text": [
            "Mounted at /gdrive\n"
          ],
          "name": "stdout"
        }
      ]
    },
    {
      "cell_type": "code",
      "metadata": {
        "id": "jNzuBJXpDGgN"
      },
      "source": [
        "# update for folder to save data\n",
        "Output_FP = '/gdrive/MyDrive/ARD_ET/2018_Phillips/8'"
      ],
      "execution_count": null,
      "outputs": []
    },
    {
      "cell_type": "code",
      "metadata": {
        "id": "M70Hymx-DSDK"
      },
      "source": [
        "# Once the order is completed or partially completed, can get the download url's\n",
        "for item in resp[orderid]:\n",
        "    print(\"URL: {0}\".format(item.get('product_dload_url')))\n",
        "    FSN = os.path.basename(item.get('product_dload_url'))\n",
        "    print(\"FSN: {}\".format(FSN))\n",
        "    oFWN = os.path.join(Output_FP, FSN)\n",
        "    print(\"oFWN: {}\".format(oFWN))\n",
        "    print(\"Downloading...\")\n",
        "    urllib.request.urlretrieve(item.get('product_dload_url'), \n",
        "                               oFWN)"
      ],
      "execution_count": null,
      "outputs": []
    },
    {
      "cell_type": "code",
      "metadata": {
        "id": "GIMmdKn1FIg8"
      },
      "source": [
        "!tar -xzvf /gdrive/MyDrive/ET_retrieval/validation_data/LC080330322018080701T1-SC20210218040336.tar.gz -C /gdrive/MyDrive/ET_retrieval/validation_data/"
      ],
      "execution_count": null,
      "outputs": []
    },
    {
      "cell_type": "code",
      "metadata": {
        "id": "0eoZQIhwF8rU"
      },
      "source": [
        "da = open_rasterio('/gdrive/MyDrive/ET_retrieval/validation_data/LC08_L1TP_033032_20180807_20180815_01_T1_eta.tif')\n",
        "#transform = affine.from_gdal(*da.attrs['transform']) # this is important to retain the geographic attributes from the file"
      ],
      "execution_count": null,
      "outputs": []
    },
    {
      "cell_type": "code",
      "metadata": {
        "id": "vQUUmuXWQZHU"
      },
      "source": [
        "fig = plt.figure(figsize=(16,16))\n",
        "ax = fig.add_subplot(111)\n",
        "ax.imshow(da.variable.data[0])\n",
        "plt.show()"
      ],
      "execution_count": null,
      "outputs": []
    }
  ]
}